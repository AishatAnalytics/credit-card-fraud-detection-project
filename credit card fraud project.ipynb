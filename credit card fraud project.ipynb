{
 "cells": [
  {
   "cell_type": "code",
   "execution_count": 1,
   "id": "14835542",
   "metadata": {},
   "outputs": [],
   "source": [
    "import pandas as pd\n",
    "import numpy as np\n",
    "import matplotlib.pyplot as plt\n",
    "import seaborn as sns\n",
    "import time\n",
    "from IPython.display import clear_output\n",
    "import warnings\n",
    "warnings.filterwarnings('ignore')\n",
    "%matplotlib inline"
   ]
  },
  {
   "cell_type": "code",
   "execution_count": 3,
   "id": "cfeb63dd",
   "metadata": {},
   "outputs": [],
   "source": [
    "data = pd.read_csv(\"fraudTest.csv\")"
   ]
  },
  {
   "cell_type": "code",
   "execution_count": 4,
   "id": "99fcf17c",
   "metadata": {},
   "outputs": [
    {
     "data": {
      "text/plain": [
       "(555719, 23)"
      ]
     },
     "execution_count": 4,
     "metadata": {},
     "output_type": "execute_result"
    }
   ],
   "source": [
    "data.shape"
   ]
  },
  {
   "cell_type": "code",
   "execution_count": 5,
   "id": "1d4b52ec",
   "metadata": {},
   "outputs": [
    {
     "data": {
      "text/plain": [
       "Index(['Unnamed: 0', 'trans_date_trans_time', 'cc_num', 'merchant', 'category',\n",
       "       'amt', 'first', 'last', 'gender', 'street', 'city', 'state', 'zip',\n",
       "       'lat', 'long', 'city_pop', 'job', 'dob', 'trans_num', 'unix_time',\n",
       "       'merch_lat', 'merch_long', 'is_fraud'],\n",
       "      dtype='object')"
      ]
     },
     "execution_count": 5,
     "metadata": {},
     "output_type": "execute_result"
    }
   ],
   "source": [
    "data.columns"
   ]
  },
  {
   "cell_type": "markdown",
   "id": "b73e197c",
   "metadata": {},
   "source": [
    "Inspecting the structure of the DataSet\n",
    "3.1 understand the shape of the dataset\n",
    "3.2 check the datatypes of the columns\n",
    "3.3 check any missing values are present in the dataset\n",
    "3.4 look at the head of the dataframe\n",
    "3.5 inspect the target variable distribution"
   ]
  },
  {
   "cell_type": "code",
   "execution_count": 7,
   "id": "a7b55ece",
   "metadata": {},
   "outputs": [
    {
     "data": {
      "text/plain": [
       "Unnamed: 0                 int64\n",
       "trans_date_trans_time     object\n",
       "cc_num                     int64\n",
       "merchant                  object\n",
       "category                  object\n",
       "amt                      float64\n",
       "first                     object\n",
       "last                      object\n",
       "gender                    object\n",
       "street                    object\n",
       "city                      object\n",
       "state                     object\n",
       "zip                        int64\n",
       "lat                      float64\n",
       "long                     float64\n",
       "city_pop                   int64\n",
       "job                       object\n",
       "dob                       object\n",
       "trans_num                 object\n",
       "unix_time                  int64\n",
       "merch_lat                float64\n",
       "merch_long               float64\n",
       "is_fraud                   int64\n",
       "dtype: object"
      ]
     },
     "execution_count": 7,
     "metadata": {},
     "output_type": "execute_result"
    }
   ],
   "source": [
    "data.dtypes"
   ]
  },
  {
   "cell_type": "code",
   "execution_count": 9,
   "id": "41927047",
   "metadata": {},
   "outputs": [
    {
     "data": {
      "text/plain": [
       "555719"
      ]
     },
     "execution_count": 9,
     "metadata": {},
     "output_type": "execute_result"
    }
   ],
   "source": [
    "len(data)"
   ]
  },
  {
   "cell_type": "code",
   "execution_count": 13,
   "id": "ea94eccd",
   "metadata": {},
   "outputs": [],
   "source": [
    "X = data.drop('is_fraud', axis=1)"
   ]
  },
  {
   "cell_type": "code",
   "execution_count": 8,
   "id": "f3d8af3d",
   "metadata": {},
   "outputs": [],
   "source": [
    "\n",
    "y=data['is_fraud']\n"
   ]
  },
  {
   "cell_type": "code",
   "execution_count": 14,
   "id": "6f7b8a18",
   "metadata": {},
   "outputs": [],
   "source": [
    "from sklearn.model_selection import train_test_split\n",
    "    \n",
    "X_train, X_test, y_train, y_test = train_test_split(X,y,test_size=0.3,random_state=101)"
   ]
  },
  {
   "cell_type": "code",
   "execution_count": null,
   "id": "24289677",
   "metadata": {},
   "outputs": [],
   "source": [
    "# inspectinng the target variable"
   ]
  },
  {
   "cell_type": "code",
   "execution_count": 15,
   "id": "3fa83ed9",
   "metadata": {},
   "outputs": [
    {
     "data": {
      "text/html": [
       "<div>\n",
       "<style scoped>\n",
       "    .dataframe tbody tr th:only-of-type {\n",
       "        vertical-align: middle;\n",
       "    }\n",
       "\n",
       "    .dataframe tbody tr th {\n",
       "        vertical-align: top;\n",
       "    }\n",
       "\n",
       "    .dataframe thead th {\n",
       "        text-align: right;\n",
       "    }\n",
       "</style>\n",
       "<table border=\"1\" class=\"dataframe\">\n",
       "  <thead>\n",
       "    <tr style=\"text-align: right;\">\n",
       "      <th></th>\n",
       "      <th>count</th>\n",
       "      <th>distribution</th>\n",
       "    </tr>\n",
       "  </thead>\n",
       "  <tbody>\n",
       "    <tr>\n",
       "      <th>genuine</th>\n",
       "      <td>553574</td>\n",
       "      <td>99.614014</td>\n",
       "    </tr>\n",
       "    <tr>\n",
       "      <th>fraud</th>\n",
       "      <td>2145</td>\n",
       "      <td>0.385986</td>\n",
       "    </tr>\n",
       "  </tbody>\n",
       "</table>\n",
       "</div>"
      ],
      "text/plain": [
       "          count  distribution\n",
       "genuine  553574     99.614014\n",
       "fraud      2145      0.385986"
      ]
     },
     "execution_count": 15,
     "metadata": {},
     "output_type": "execute_result"
    },
    {
     "data": {
      "image/png": "[encoded data removed]",
      "text/plain": [
       "<Figure size 720x504 with 1 Axes>"
      ]
     },
     "metadata": {
      "needs_background": "light"
     },
     "output_type": "display_data"
    }
   ],
   "source": [
    "a = data['is_fraud'].value_counts().rename('count') # count of classes\n",
    "b = (data['is_fraud'].value_counts(normalize = True)*100).rename('distribution') # normalisation of the classes\n",
    "tem = pd.concat([a,b], axis = 1)\n",
    "tem.index = ['genuine','fraud']\n",
    "tem['distribution'].plot(kind = 'bar', figsize = [10,7]);\n",
    "tem"
   ]
  },
  {
   "cell_type": "markdown",
   "id": "9199f2f3",
   "metadata": {},
   "source": [
    "# Inference on inspecting the dataset :\n",
    "\n",
    "There are 24 columns in the dataframe (including the unnamed 0 and split-label columns)\n",
    "Target varible is is_fraud\n",
    "Some of the variables reqires type-casting before further proceeding, for example trans_date_trans_time and dob are currently string-columns which need to be type-casted to pandas datetime object\n",
    "No null values present in the dataset (all columns - all values are available for train as well as the test datasets)\n"
   ]
  },
  {
   "cell_type": "markdown",
   "id": "ffcd58b5",
   "metadata": {},
   "source": [
    "# Inference on Inspecting the Target variable:\n",
    "\n",
    "The dataset id Severely imbalanced, hence there is a class imbalance problem\n",
    "The majority class, the non-fraud class contributes about 99.42 %\n",
    "The minority class, in this case the positive class fraud contributes only 0.58%\n",
    "\n"
   ]
  },
  {
   "cell_type": "markdown",
   "id": "2d3dae23",
   "metadata": {},
   "source": [
    "# What we can do :\n",
    "\n",
    "we should involve nesecceary proceses to mitigate the class imbalance problem like SMOTE or ADASYS\n",
    "Choose the right metric for evaluating the model\n",
    "In the given context, any random model can predict the classes with 99 % accuracy, hence accuracy is not the right metric to evaluate the model, we should go for the roc_auc instead , which is the measureof TruePostive and TrueNegative."
   ]
  },
  {
   "cell_type": "markdown",
   "id": "590f4d8d",
   "metadata": {},
   "source": [
    "# .Basic Data Cleaning\n",
    "4.1 Drop the duplicate records in the train dataset\n",
    "4.2 Type cast the varibles wherever required\n",
    "4.3 Lets check the cardinality of the category columns\n",
    "4.4 Transform the the categprical columns to reduce the cadinality\n",
    "4.5 Select and drop the reduntant columns"
   ]
  },
  {
   "cell_type": "markdown",
   "id": "664c6b58",
   "metadata": {},
   "source": [
    "# Drop the duplicated records"
   ]
  },
  {
   "cell_type": "code",
   "execution_count": 16,
   "id": "348b4d34",
   "metadata": {},
   "outputs": [
    {
     "data": {
      "text/plain": [
       "0"
      ]
     },
     "execution_count": 16,
     "metadata": {},
     "output_type": "execute_result"
    }
   ],
   "source": [
    "# check for the duplicated records.\n",
    "data.duplicated().sum()\n"
   ]
  },
  {
   "cell_type": "markdown",
   "id": "2c117199",
   "metadata": {},
   "source": [
    "# Type cast the necessary variables"
   ]
  },
  {
   "cell_type": "code",
   "execution_count": 17,
   "id": "44e5c315",
   "metadata": {},
   "outputs": [
    {
     "data": {
      "text/plain": [
       "0   2020-06-21 12:14:25\n",
       "1   2020-06-21 12:14:33\n",
       "2   2020-06-21 12:14:53\n",
       "Name: trans_date_trans_time, dtype: datetime64[ns]"
      ]
     },
     "execution_count": 17,
     "metadata": {},
     "output_type": "execute_result"
    }
   ],
   "source": [
    "# trans_date_trans_time to pandas datetime\n",
    "\n",
    "data['trans_date_trans_time'] = pd.to_datetime(data['trans_date_trans_time'])\n",
    "data['trans_date_trans_time'].head(3)"
   ]
  },
  {
   "cell_type": "code",
   "execution_count": 18,
   "id": "38dec8ac",
   "metadata": {},
   "outputs": [
    {
     "data": {
      "text/plain": [
       "0   1968-03-19\n",
       "1   1990-01-17\n",
       "2   1970-10-21\n",
       "Name: dob, dtype: datetime64[ns]"
      ]
     },
     "execution_count": 18,
     "metadata": {},
     "output_type": "execute_result"
    }
   ],
   "source": [
    "# dob to pandas datetime\n",
    "\n",
    "data['dob'] = pd.to_datetime(data['dob'])\n",
    "data['dob'].head(3)"
   ]
  },
  {
   "cell_type": "markdown",
   "id": "66f17f41",
   "metadata": {},
   "source": [
    "Lets look at the cardinality of the varibles in the dataframe"
   ]
  },
  {
   "cell_type": "code",
   "execution_count": 19,
   "id": "1cbf881f",
   "metadata": {},
   "outputs": [],
   "source": [
    "cat_cols = data.select_dtypes(include = 'object').columns # selecting the categorical columns\n",
    "\n",
    "for col in cat_cols:\n",
    "    data[col] = data[col].str.lower().str.strip() \n",
    "    # cleaning the categorical columns with strings methods\n",
    "    data[cat_cols].nunique().sort_values()\n"
   ]
  },
  {
   "cell_type": "markdown",
   "id": "50934462",
   "metadata": {},
   "source": [
    "4.4 Choosing the columns to be Dropped\n",
    "\n",
    "indexes/record id's\n",
    "customer labels such as name, job ( job is highly cardinal cannot be grouped)\n",
    "merchant labels such as merchant name\n",
    "other categorical columns with high cadinalities which cannot be grouped / cannot be encoded"
   ]
  },
  {
   "cell_type": "code",
   "execution_count": 20,
   "id": "475d9cb5",
   "metadata": {},
   "outputs": [
    {
     "data": {
      "text/plain": [
       "['trans_date_trans_time',\n",
       " 'cc_num',\n",
       " 'category',\n",
       " 'amt',\n",
       " 'gender',\n",
       " 'city',\n",
       " 'state',\n",
       " 'lat',\n",
       " 'long',\n",
       " 'city_pop',\n",
       " 'dob',\n",
       " 'unix_time',\n",
       " 'merch_lat',\n",
       " 'merch_long',\n",
       " 'is_fraud']"
      ]
     },
     "execution_count": 20,
     "metadata": {},
     "output_type": "execute_result"
    }
   ],
   "source": [
    "drop_cols = ['Unnamed: 0','street','merchant','zip','first','last','trans_num','job'] # list of columns to be dropped\n",
    "data.drop(drop_cols, axis =1, inplace = True)\n",
    "list(data.columns) # printing the remaining columns after droppin"
   ]
  },
  {
   "cell_type": "markdown",
   "id": "e7b73b69",
   "metadata": {},
   "source": [
    "Feature Extraction ( Arriving New Features )\n",
    "5.1. Extract features from trans_date_trans_time\n",
    "5.2. Extract features from unix_time\n",
    "5.3. Extract features from dob\n",
    "5.4. Extract features from merchant lat-long and card holder lat-long\n",
    "5.5. Delete the reduntant features after feature extraction"
   ]
  },
  {
   "cell_type": "code",
   "execution_count": 21,
   "id": "f0db1734",
   "metadata": {},
   "outputs": [
    {
     "data": {
      "text/plain": [
       "array([12, 13, 14, 15, 16, 17, 18, 19, 20, 21, 22, 23,  0,  1,  2,  3,  4,\n",
       "        5,  6,  7,  8,  9, 10, 11])"
      ]
     },
     "execution_count": 21,
     "metadata": {},
     "output_type": "execute_result"
    }
   ],
   "source": [
    "# extract the transaction hour column\n",
    "\n",
    "data['trans_hour'] = data['trans_date_trans_time'].dt.hour  # extracting the hour component using the dt accessor\n",
    "\n",
    "data['trans_hour'].unique() # printing the unique values in the extracted series"
   ]
  },
  {
   "cell_type": "code",
   "execution_count": 22,
   "id": "c2a633a9",
   "metadata": {},
   "outputs": [
    {
     "data": {
      "text/plain": [
       "array([ 6,  7,  8,  9, 10, 11, 12])"
      ]
     },
     "execution_count": 22,
     "metadata": {},
     "output_type": "execute_result"
    }
   ],
   "source": [
    "# extract transaction month column\n",
    "\n",
    "data['trans_month'] = data['trans_date_trans_time'].dt.month # extracting the month number component using the dt accessor\n",
    "\n",
    "data['trans_month'].unique() # printing the unique values in the extracted series\n"
   ]
  },
  {
   "cell_type": "code",
   "execution_count": 23,
   "id": "ce43e51f",
   "metadata": {},
   "outputs": [
    {
     "data": {
      "text/plain": [
       "array(['Sunday', 'Monday', 'Tuesday', 'Wednesday', 'Thursday', 'Friday',\n",
       "       'Saturday'], dtype=object)"
      ]
     },
     "execution_count": 23,
     "metadata": {},
     "output_type": "execute_result"
    }
   ],
   "source": [
    "# the extract the boolean if the date of transaction is weekend or not\n",
    "\n",
    "data['trans_dayofweek'] = data['trans_date_trans_time'].dt.day_name() # extracting the day name component using the dt accessor\n",
    "\n",
    "data['trans_dayofweek'].unique() # printing the unique values in the extracted series"
   ]
  },
  {
   "cell_type": "markdown",
   "id": "55a02f93",
   "metadata": {},
   "source": [
    "5.2 Features from unix_time\n",
    "\n",
    "Note: unitx time is the date and time representation widely used in computing. It measures time by the number of seconds that have elapsed since 00:00:00 UTC on 1 January 1970, the beginning of the Unix (Unix OS) epoch.\n",
    "\n",
    "calculate the time delay between the previouse and currant transaction\n"
   ]
  },
  {
   "cell_type": "code",
   "execution_count": 25,
   "id": "5dbc20d3",
   "metadata": {},
   "outputs": [
    {
     "data": {
      "text/plain": [
       "count     924\n",
       "mean      601\n",
       "std       329\n",
       "min         6\n",
       "25%       252\n",
       "50%       634\n",
       "75%       859\n",
       "max      1474\n",
       "Name: cc_num, dtype: int64"
      ]
     },
     "execution_count": 25,
     "metadata": {},
     "output_type": "execute_result"
    }
   ],
   "source": [
    "# lets look at the summary of the creit card transactions\n",
    "\n",
    "data.groupby(['cc_num'])['cc_num'].count().sort_values(ascending = False).describe().astype(int)"
   ]
  },
  {
   "cell_type": "markdown",
   "id": "8c54f46f",
   "metadata": {},
   "source": [
    "Inference :\n",
    "\n",
    "There are 924 credt cards transaction are recorded\n",
    "Each credict card has been utilised mutiple times (average of 601 times)\n",
    "min - 6 times , max - 1474 times\n",
    "Hence it is important to understand the delay betweem the previouse transaction and the current transaction for a credit cards in each record"
   ]
  },
  {
   "cell_type": "code",
   "execution_count": 26,
   "id": "c6914353",
   "metadata": {},
   "outputs": [],
   "source": [
    "# sort the dataframe on transaction datetime & cc_num\n",
    "\n",
    "data.sort_values(by = ['cc_num','unix_time'], ascending = True, inplace = True)"
   ]
  },
  {
   "cell_type": "code",
   "execution_count": 28,
   "id": "389ba83a",
   "metadata": {},
   "outputs": [],
   "source": [
    "# unix_time for the previouse transaction using the shift method in pandas\n",
    "\n",
    "data['unix_time_prev_trans'] = data.groupby(by = ['cc_num'])['unix_time'].shift(1)"
   ]
  },
  {
   "cell_type": "code",
   "execution_count": 29,
   "id": "0ec722ea",
   "metadata": {},
   "outputs": [],
   "source": [
    "# For the first transactions-records all the credit cards, the previouse unit time will be null\n",
    "# we dont want any null values to be present in the variable as we are going to feed the dataset into machine learning models where null values are not expected\n",
    "# for all the rows with null values, we are filling with the current unit time value - 86400 (number of seconds in a day)\n",
    "\n",
    "data['unix_time_prev_trans'].fillna(data['unix_time'] - 86400, inplace = True)"
   ]
  },
  {
   "cell_type": "code",
   "execution_count": 30,
   "id": "bc92913a",
   "metadata": {},
   "outputs": [],
   "source": [
    "# calculatig the time delay between the previouse and current transaction - converting the variable into to mins\n",
    "\n",
    "data['timedelta_last_trans'] = (data['unix_time'] - data['unix_time_prev_trans'])//60\n"
   ]
  },
  {
   "cell_type": "markdown",
   "id": "67b99f39",
   "metadata": {},
   "source": [
    "5.3 Features from dob\n",
    "\n",
    "Age of the card holder"
   ]
  },
  {
   "cell_type": "code",
   "execution_count": 31,
   "id": "56c3448c",
   "metadata": {},
   "outputs": [
    {
     "data": {
      "text/plain": [
       "157    1986-02-17\n",
       "741    1986-02-17\n",
       "3047   1986-02-17\n",
       "4351   1986-02-17\n",
       "7695   1986-02-17\n",
       "Name: dob, dtype: datetime64[ns]"
      ]
     },
     "execution_count": 31,
     "metadata": {},
     "output_type": "execute_result"
    }
   ],
   "source": [
    "# lets look the variable\n",
    "\n",
    "data['dob'].head()\n"
   ]
  },
  {
   "cell_type": "markdown",
   "id": "5b203c55",
   "metadata": {},
   "source": [
    "calculating the age at the date of the transaction = dob - trans_date_trans_time"
   ]
  },
  {
   "cell_type": "code",
   "execution_count": 32,
   "id": "4276c244",
   "metadata": {},
   "outputs": [
    {
     "data": {
      "text/plain": [
       "157     34.0\n",
       "741     34.0\n",
       "3047    34.0\n",
       "4351    34.0\n",
       "7695    34.0\n",
       "Name: cust_age, dtype: float64"
      ]
     },
     "execution_count": 32,
     "metadata": {},
     "output_type": "execute_result"
    }
   ],
   "source": [
    "data['cust_age'] = (data['trans_date_trans_time'] - data['dob']).astype('timedelta64[Y]') # calculting the age in days and converting it into years\n",
    "\n",
    "data['cust_age'].head() # lets look at the newly arrived age column"
   ]
  },
  {
   "cell_type": "markdown",
   "id": "cfd4304d",
   "metadata": {},
   "source": [
    "5.4 Features from merchant lat-log and card holder lat-long\n",
    "\n",
    "lat distance between the customer loctaion and merchant location\n",
    "long distance between the customer loctaion and merchant location\n",
    "lat distance between the current merchant location and the previous merchant location\n",
    "long distance between the current merchant location and the previous merchant location\n"
   ]
  },
  {
   "cell_type": "code",
   "execution_count": 33,
   "id": "1a50c373",
   "metadata": {},
   "outputs": [
    {
     "data": {
      "text/plain": [
       "157     0.059274\n",
       "741     0.811670\n",
       "3047    0.927924\n",
       "Name: lat_dist_cust_merch, dtype: float64"
      ]
     },
     "execution_count": 33,
     "metadata": {},
     "output_type": "execute_result"
    }
   ],
   "source": [
    "#Calculate the lat distance between the customer and current merchant\n",
    "\n",
    "data['lat_dist_cust_merch'] = (data['lat'] -data['merch_lat']).abs()\n",
    "data['lat_dist_cust_merch'].head(3)\n"
   ]
  },
  {
   "cell_type": "code",
   "execution_count": 34,
   "id": "eb08db34",
   "metadata": {},
   "outputs": [
    {
     "data": {
      "text/plain": [
       "157     0.365499\n",
       "741     0.214346\n",
       "3047    0.803394\n",
       "Name: long_dist_cust_merch, dtype: float64"
      ]
     },
     "execution_count": 34,
     "metadata": {},
     "output_type": "execute_result"
    }
   ],
   "source": [
    "# Calculate the long distance between the customer and current merchant\n",
    "\n",
    "data['long_dist_cust_merch'] = (data['long'] -data['merch_long']).abs()\n",
    "data['long_dist_cust_merch'].head(3)"
   ]
  },
  {
   "cell_type": "code",
   "execution_count": 35,
   "id": "bc520e8a",
   "metadata": {},
   "outputs": [],
   "source": [
    "# Get the lat and long values of the previouse merchan\n",
    "\n",
    "data['prev_merch_lat'] = data.groupby(by = ['cc_num'])['merch_lat'].shift(1) # latitude of the previouse merchant with pandas shift method\n",
    "\n",
    "data['prev_merch_long'] = data.groupby(by = ['cc_num'])['merch_long'].shift(1) # longitude of the previouse merchant with pandas shift method"
   ]
  },
  {
   "cell_type": "code",
   "execution_count": 36,
   "id": "7789d64e",
   "metadata": {},
   "outputs": [],
   "source": [
    "# Fill the null values ( for all initial transctions 999 numbers ) with the lat long values of the current merchant\n",
    "\n",
    "data['prev_merch_lat'].fillna(data['merch_lat'], inplace = True)\n",
    "\n",
    "data['prev_merch_long'].fillna(data['merch_long'], inplace = True)\n"
   ]
  },
  {
   "cell_type": "code",
   "execution_count": 37,
   "id": "f578d7ac",
   "metadata": {},
   "outputs": [
    {
     "data": {
      "text/plain": [
       "157     0.000000\n",
       "741     0.752396\n",
       "3047    1.739594\n",
       "Name: lat_dist_prev_merch, dtype: float64"
      ]
     },
     "execution_count": 37,
     "metadata": {},
     "output_type": "execute_result"
    }
   ],
   "source": [
    "#Calculate the distnace between the current and the previouse merchant\n",
    "data['lat_dist_prev_merch'] = (data['merch_lat'] - data['prev_merch_lat']).abs() # calculate and convert into absolute value\n",
    "\n",
    "data['lat_dist_prev_merch'].head(3) # lets look at the newly arrived variable "
   ]
  },
  {
   "cell_type": "code",
   "execution_count": 38,
   "id": "e11cce14",
   "metadata": {},
   "outputs": [
    {
     "data": {
      "text/plain": [
       "157     0.000000\n",
       "741     0.151153\n",
       "3047    1.017740\n",
       "Name: long_dist_prev_merch, dtype: float64"
      ]
     },
     "execution_count": 38,
     "metadata": {},
     "output_type": "execute_result"
    }
   ],
   "source": [
    "# Calculate the distnace between the current and the previouse merchant\n",
    "\n",
    "data['long_dist_prev_merch'] = (data['merch_long'] -data['prev_merch_long']).abs() # calculate and convert into absolute value\n",
    "\n",
    "data['long_dist_prev_merch'].head(3) # lets look at the newly arrived variable \n"
   ]
  },
  {
   "cell_type": "markdown",
   "id": "c29b958f",
   "metadata": {},
   "source": [
    "5.5 Delete the redundant Features / Columns\n",
    "\n",
    "trans_date_trans_time\n",
    "cc_num\n",
    "unix_time\n",
    "unix_time_prev_trans\n",
    "dob\n",
    "lat\n",
    "long\n",
    "merch_lat\n",
    "merch_long\n",
    "prev_merch_lat\n",
    "prev_merch_long\n"
   ]
  },
  {
   "cell_type": "code",
   "execution_count": 39,
   "id": "0ea87bfd",
   "metadata": {},
   "outputs": [],
   "source": [
    "# list of the columns to be dropped\n",
    "\n",
    "drop_cols2 = ['trans_date_trans_time','cc_num','unix_time','unix_time_prev_trans','lat',\n",
    "              'long','merch_lat','merch_long','prev_merch_lat','prev_merch_long','dob','city']\n"
   ]
  },
  {
   "cell_type": "code",
   "execution_count": 40,
   "id": "074286b2",
   "metadata": {},
   "outputs": [
    {
     "data": {
      "text/plain": [
       "['category',\n",
       " 'amt',\n",
       " 'gender',\n",
       " 'state',\n",
       " 'city_pop',\n",
       " 'is_fraud',\n",
       " 'trans_hour',\n",
       " 'trans_month',\n",
       " 'trans_dayofweek',\n",
       " 'timedelta_last_trans',\n",
       " 'cust_age',\n",
       " 'lat_dist_cust_merch',\n",
       " 'long_dist_cust_merch',\n",
       " 'lat_dist_prev_merch',\n",
       " 'long_dist_prev_merch']"
      ]
     },
     "execution_count": 40,
     "metadata": {},
     "output_type": "execute_result"
    }
   ],
   "source": [
    "# Dropping the list of columns which are now redundant in the dataset\n",
    "data.drop(drop_cols2, axis = 1, inplace = True)\n",
    "data.reset_index(drop=True, inplace = True)\n",
    "list(data.columns) # lets look at the remaining list of columns"
   ]
  },
  {
   "cell_type": "markdown",
   "id": "8e3647a7",
   "metadata": {},
   "source": [
    "6.Variable Analysis and Visualization\n",
    "6.1 create the subset dataframes for fraud and normal transactions for ease the exploration\n",
    "6.2 creare the necessary functions so that those can be using over and again\n",
    "6.3 visualization and inferences"
   ]
  },
  {
   "cell_type": "markdown",
   "id": "0a6bb13d",
   "metadata": {},
   "source": [
    "6.1 create subset of dataframes"
   ]
  },
  {
   "cell_type": "code",
   "execution_count": 41,
   "id": "e46fdd10",
   "metadata": {},
   "outputs": [],
   "source": [
    "all_trans = data.copy() # create a copy dataset fof the base dataset\n",
    "\n",
    "all_trans['class'] = all_trans['is_fraud'].map({1:'Fraud',0:'Non_Fraud'}) # mapping the classes 0 & 1 to genuine and fraud\n",
    "\n",
    "normal = all_trans[data['is_fraud'] == 0] # create the normal transaction dataset\n",
    "\n",
    "fraud = all_trans[data['is_fraud'] == 1] # create a fruad transaction dataset"
   ]
  },
  {
   "cell_type": "markdown",
   "id": "e16ddb0f",
   "metadata": {},
   "source": [
    "6.2 create functions for peformimg the analysis\n",
    "\n",
    "function to show simple stats by class\n",
    "function to show simple stats by variable\n",
    "function plot the box plots\n",
    "function to normaize the count by the class"
   ]
  },
  {
   "cell_type": "code",
   "execution_count": 43,
   "id": "eaed994e",
   "metadata": {},
   "outputs": [],
   "source": [
    "# Function to show simple stats by class\n",
    "def stats_by_class(variable):\n",
    "    stat_grid = all_trans.groupby('class')[variable].agg([np.min,np.max,np.mean,np.median])\n",
    "    stat_grid = stat_grid.transpose().round(2)\n",
    "    return stat_grid"
   ]
  },
  {
   "cell_type": "code",
   "execution_count": 44,
   "id": "cd72cb84",
   "metadata": {},
   "outputs": [],
   "source": [
    "#Fuction to show simple stats by variable\n",
    "\n",
    "def stats_by_var(variable):\n",
    "    n = (normal[variable].value_counts(normalize = True)*100).round(2).rename('normal')\n",
    "    f = (fraud[variable].value_counts(normalize = True)*100).round(2).rename('fraud')\n",
    "    return pd.concat([n,f], axis = 1).transpose()\n"
   ]
  },
  {
   "cell_type": "code",
   "execution_count": 45,
   "id": "9735ad46",
   "metadata": {},
   "outputs": [],
   "source": [
    "# Functing for plotting the boxplot\n",
    "def plot_box (data, x, y, title , width = 10, height = 7):\n",
    "    plt.figure(figsize = [width,height])\n",
    "    sns.boxplot(data = data, x = x, y = y)\n",
    "    plt.title(title);"
   ]
  },
  {
   "cell_type": "code",
   "execution_count": 47,
   "id": "963297f2",
   "metadata": {},
   "outputs": [],
   "source": [
    "# Function for plotting the normalized the count by class\n",
    "\n",
    "def normalize_count_by_class(variable, width = 20, height = 7):\n",
    "    plt.figure(figsize = [width,height])\n",
    "    normalized_normal = (normal.groupby('class')[variable].value_counts(normalize = True)*100).rename('value').reset_index() # calculate the normalized value for normal transactions \n",
    "\n",
    "    normalized_fraud = (fraud.groupby('class')[variable].value_counts(normalize = True)*100).rename('value').reset_index() # calculate the normalized valued for the fraud transactions\n",
    "\n",
    "    plot_table = pd.concat([normalized_normal.set_index(variable)[['class','value']],\n",
    "                             normalized_fraud.set_index(variable)[['class','value']]], axis = 0).reset_index()\n",
    "  \n",
    "    sns.barplot(data = plot_table, x = variable, y = 'value', hue = 'class')\n",
    "    plt.title('\\nNormalized frequency of the varible < '+variable+' > on both classes\\n')\n",
    "    plt.xticks(rotation = 30);\n",
    "\n",
    "    summary_table = pd.concat([normalized_normal.set_index(variable)['value'],\n",
    "                             normalized_fraud.set_index(variable)['value']],\n",
    "                            axis = 1).reset_index()\n",
    "\n",
    "    summary_table.columns = [variable, 'normal', 'fraud']\n",
    "  \n",
    "    summary_table['diff in %'] = (summary_table['fraud'] - summary_table['normal'])\n",
    "\n",
    "    summary_table.sort_values(by = 'diff in %', ascending = True, inplace = True)\n",
    "    del normalized_normal,normalized_fraud,plot_table # delating the temperory varibale created in the function\n",
    "\n",
    "    print('\\nNormalized frequency of < '+variable+' > on both classes and the percentage diffrence\\n')\n",
    "  \n",
    "    return summary_table"
   ]
  },
  {
   "cell_type": "code",
   "execution_count": 48,
   "id": "4d0ac5fe",
   "metadata": {},
   "outputs": [],
   "source": [
    "# choosing ggplot as the default plotting style\n",
    "\n",
    "plt.style.use('ggplot')\n"
   ]
  },
  {
   "cell_type": "markdown",
   "id": "ce4b4188",
   "metadata": {},
   "source": [
    "6.3 Visualizations and Inferences\n",
    "\n",
    "6.3.A ) is_fraud Class Distribution"
   ]
  },
  {
   "cell_type": "code",
   "execution_count": 49,
   "id": "299004ea",
   "metadata": {},
   "outputs": [
    {
     "data": {
      "image/png": "[encoded data removed]",
      "text/plain": [
       "<Figure size 504x504 with 1 Axes>"
      ]
     },
     "metadata": {},
     "output_type": "display_data"
    }
   ],
   "source": [
    "plt.figure(figsize = [7,7])\n",
    "plot_var = all_trans['is_fraud'].value_counts(normalize = True)\n",
    "plt.pie(plot_var,\n",
    "        autopct='%1.1f%%',\n",
    "        labels = ['non_fraud','fraud'], \n",
    "        explode = [0.2, 0], \n",
    "        shadow = True) # plotting the pie chart\n",
    "plt.title('Distribution of the Target');"
   ]
  },
  {
   "cell_type": "markdown",
   "id": "9aacf320",
   "metadata": {},
   "source": [
    "Inference :\n",
    "\n",
    "The classes are highly imbalanced, 96 % of the class belongs to normal transactions, and only 0.4 % contributes to the fraud transaction."
   ]
  },
  {
   "cell_type": "markdown",
   "id": "a0c1ed36",
   "metadata": {},
   "source": [
    "6.3.B ) Gender of the card holder by class"
   ]
  },
  {
   "cell_type": "code",
   "execution_count": 51,
   "id": "a2043663",
   "metadata": {},
   "outputs": [
    {
     "data": {
      "text/html": [
       "<div>\n",
       "<style scoped>\n",
       "    .dataframe tbody tr th:only-of-type {\n",
       "        vertical-align: middle;\n",
       "    }\n",
       "\n",
       "    .dataframe tbody tr th {\n",
       "        vertical-align: top;\n",
       "    }\n",
       "\n",
       "    .dataframe thead th {\n",
       "        text-align: right;\n",
       "    }\n",
       "</style>\n",
       "<table border=\"1\" class=\"dataframe\">\n",
       "  <thead>\n",
       "    <tr style=\"text-align: right;\">\n",
       "      <th></th>\n",
       "      <th>f</th>\n",
       "      <th>m</th>\n",
       "    </tr>\n",
       "  </thead>\n",
       "  <tbody>\n",
       "    <tr>\n",
       "      <th>normal</th>\n",
       "      <td>54.87</td>\n",
       "      <td>45.13</td>\n",
       "    </tr>\n",
       "    <tr>\n",
       "      <th>fraud</th>\n",
       "      <td>54.27</td>\n",
       "      <td>45.73</td>\n",
       "    </tr>\n",
       "  </tbody>\n",
       "</table>\n",
       "</div>"
      ],
      "text/plain": [
       "            f      m\n",
       "normal  54.87  45.13\n",
       "fraud   54.27  45.73"
      ]
     },
     "execution_count": 51,
     "metadata": {},
     "output_type": "execute_result"
    },
    {
     "data": {
      "image/png": "[encoded data removed]",
      "text/plain": [
       "<Figure size 1080x360 with 2 Axes>"
      ]
     },
     "metadata": {},
     "output_type": "display_data"
    }
   ],
   "source": [
    "# plot gender count vs taget class\n",
    "\n",
    "plt.figure(figsize=[15,5])\n",
    "\n",
    "plt.subplot(1,2,1)\n",
    "normal['gender'].value_counts().plot(kind = 'bar')\n",
    "plt.title('\\nGender Distribution - Normal Transactions\\n')\n",
    "\n",
    "# plot gender count in fraud class\n",
    "\n",
    "plt.subplot(1,2,2)\n",
    "fraud['gender'].value_counts().plot(kind = 'bar')\n",
    "plt.title('\\nGender Distribition only on Fraud Transactions\\n');\n",
    "\n",
    "stats_by_var('gender') # calling the stats by var function for the gender variable\n"
   ]
  },
  {
   "cell_type": "markdown",
   "id": "812ec705",
   "metadata": {},
   "source": [
    "Inference :\n",
    "\n",
    "The fraud transaction is similarly distributed amoung male and female card holders."
   ]
  },
  {
   "cell_type": "markdown",
   "id": "f5bbc9a1",
   "metadata": {},
   "source": [
    "Age of the Card Holder\n",
    "\n"
   ]
  },
  {
   "cell_type": "code",
   "execution_count": 52,
   "id": "9f9d457f",
   "metadata": {},
   "outputs": [
    {
     "data": {
      "text/html": [
       "<div>\n",
       "<style scoped>\n",
       "    .dataframe tbody tr th:only-of-type {\n",
       "        vertical-align: middle;\n",
       "    }\n",
       "\n",
       "    .dataframe tbody tr th {\n",
       "        vertical-align: top;\n",
       "    }\n",
       "\n",
       "    .dataframe thead th {\n",
       "        text-align: right;\n",
       "    }\n",
       "</style>\n",
       "<table border=\"1\" class=\"dataframe\">\n",
       "  <thead>\n",
       "    <tr style=\"text-align: right;\">\n",
       "      <th>class</th>\n",
       "      <th>Fraud</th>\n",
       "      <th>Non_Fraud</th>\n",
       "    </tr>\n",
       "  </thead>\n",
       "  <tbody>\n",
       "    <tr>\n",
       "      <th>amin</th>\n",
       "      <td>18.00</td>\n",
       "      <td>15.00</td>\n",
       "    </tr>\n",
       "    <tr>\n",
       "      <th>amax</th>\n",
       "      <td>95.00</td>\n",
       "      <td>96.00</td>\n",
       "    </tr>\n",
       "    <tr>\n",
       "      <th>mean</th>\n",
       "      <td>48.45</td>\n",
       "      <td>46.38</td>\n",
       "    </tr>\n",
       "    <tr>\n",
       "      <th>median</th>\n",
       "      <td>47.00</td>\n",
       "      <td>44.00</td>\n",
       "    </tr>\n",
       "  </tbody>\n",
       "</table>\n",
       "</div>"
      ],
      "text/plain": [
       "class   Fraud  Non_Fraud\n",
       "amin    18.00      15.00\n",
       "amax    95.00      96.00\n",
       "mean    48.45      46.38\n",
       "median  47.00      44.00"
      ]
     },
     "execution_count": 52,
     "metadata": {},
     "output_type": "execute_result"
    },
    {
     "data": {
      "image/png": "[encoded data removed]",
      "text/plain": [
       "<Figure size 1440x504 with 1 Axes>"
      ]
     },
     "metadata": {},
     "output_type": "display_data"
    }
   ],
   "source": [
    "plt.figure(figsize = [20,7])\n",
    "\n",
    "trans_hour_distribution = all_trans.groupby('class')['cust_age'].value_counts(normalize = True).rename('distribution').reset_index() # count by customer age\n",
    "\n",
    "sns.lineplot(data = trans_hour_distribution, x = 'cust_age', y = 'distribution', hue = 'class') # plotting the line plot with hue = class\n",
    "\n",
    "plt.xticks(np.arange(10,100,5)); # modifying the xticks\n",
    "\n",
    "stats_by_class('cust_age') # calling the stats by class function for cust_age varaible"
   ]
  },
  {
   "cell_type": "markdown",
   "id": "6f851c3a",
   "metadata": {},
   "source": [
    "Inference :\n",
    "\n",
    "The transctions are majorly from people whose age is in the range of 30 - 50.\n",
    "\n",
    "The Fraad transaction are majorly concentrated for those card holders whose are age ranges between 45 - 60"
   ]
  },
  {
   "cell_type": "markdown",
   "id": "a139b6c3",
   "metadata": {},
   "source": [
    "# Amount of Transactions"
   ]
  },
  {
   "cell_type": "code",
   "execution_count": 53,
   "id": "f1b708f4",
   "metadata": {},
   "outputs": [
    {
     "data": {
      "text/html": [
       "<div>\n",
       "<style scoped>\n",
       "    .dataframe tbody tr th:only-of-type {\n",
       "        vertical-align: middle;\n",
       "    }\n",
       "\n",
       "    .dataframe tbody tr th {\n",
       "        vertical-align: top;\n",
       "    }\n",
       "\n",
       "    .dataframe thead th {\n",
       "        text-align: right;\n",
       "    }\n",
       "</style>\n",
       "<table border=\"1\" class=\"dataframe\">\n",
       "  <thead>\n",
       "    <tr style=\"text-align: right;\">\n",
       "      <th>class</th>\n",
       "      <th>Fraud</th>\n",
       "      <th>Non_Fraud</th>\n",
       "    </tr>\n",
       "  </thead>\n",
       "  <tbody>\n",
       "    <tr>\n",
       "      <th>amin</th>\n",
       "      <td>1.78</td>\n",
       "      <td>1.00</td>\n",
       "    </tr>\n",
       "    <tr>\n",
       "      <th>amax</th>\n",
       "      <td>1320.92</td>\n",
       "      <td>22768.11</td>\n",
       "    </tr>\n",
       "    <tr>\n",
       "      <th>mean</th>\n",
       "      <td>528.36</td>\n",
       "      <td>67.61</td>\n",
       "    </tr>\n",
       "    <tr>\n",
       "      <th>median</th>\n",
       "      <td>371.94</td>\n",
       "      <td>47.15</td>\n",
       "    </tr>\n",
       "  </tbody>\n",
       "</table>\n",
       "</div>"
      ],
      "text/plain": [
       "class     Fraud  Non_Fraud\n",
       "amin       1.78       1.00\n",
       "amax    1320.92   22768.11\n",
       "mean     528.36      67.61\n",
       "median   371.94      47.15"
      ]
     },
     "execution_count": 53,
     "metadata": {},
     "output_type": "execute_result"
    },
    {
     "data": {
      "image/png": "[encoded data removed]",
      "text/plain": [
       "<Figure size 720x504 with 1 Axes>"
      ]
     },
     "metadata": {},
     "output_type": "display_data"
    }
   ],
   "source": [
    "plot_box(all_trans,'class','amt','Distribution of Amount vs Class'); # calling the boxplot function\n",
    "\n",
    "stats_by_class('amt') # calling the stats_by class function"
   ]
  },
  {
   "cell_type": "markdown",
   "id": "f845d2c5",
   "metadata": {},
   "source": [
    "Inferences :\n",
    "\n",
    "The mean value of the fraud transactins seems to be high ~ 530$ where normal transctions is the 67\n",
    "from the boxplot it is very clear that the fraud transaction does not have ourlier amount but the a mjority is heavily concentrated with median of 390 which is very high from the normal transactions"
   ]
  },
  {
   "cell_type": "markdown",
   "id": "a5521252",
   "metadata": {},
   "source": [
    "Hour of Transactions"
   ]
  },
  {
   "cell_type": "code",
   "execution_count": 54,
   "id": "70665113",
   "metadata": {},
   "outputs": [
    {
     "data": {
      "image/png": "[encoded data removed]",
      "text/plain": [
       "<Figure size 864x504 with 1 Axes>"
      ]
     },
     "metadata": {},
     "output_type": "display_data"
    }
   ],
   "source": [
    "plt.figure(figsize = [12,7])\n",
    "\n",
    "trans_hour_distribution = all_trans.groupby('class')['trans_hour'].value_counts(normalize = True).rename('distribution').reset_index()\n",
    "\n",
    "sns.lineplot(data = trans_hour_distribution, x = 'trans_hour', y = 'distribution', hue = 'class')\n",
    "plt.xticks(np.arange(0,24,1))\n",
    "\n",
    "plt.show()"
   ]
  },
  {
   "cell_type": "markdown",
   "id": "1732b7ef",
   "metadata": {},
   "source": [
    "Inferences :\n",
    "\n",
    "Normal Transactions are distributed similarly over the hours with slight increase from 11th hour and maintatinig the same till 23rd hour\n",
    "Fraud Transactions are majorly taking place between 21st hour - 04 hour\n",
    "In other words, fraud transactions are happening in mid-nigh when the geniune card holders are sleeping and unable to get notified on the transaction messages"
   ]
  },
  {
   "cell_type": "markdown",
   "id": "13de380c",
   "metadata": {},
   "source": [
    "Delay Between each Transactions --- Univariate Analysis"
   ]
  },
  {
   "cell_type": "code",
   "execution_count": 55,
   "id": "bb58b7a9",
   "metadata": {},
   "outputs": [
    {
     "data": {
      "text/html": [
       "<div>\n",
       "<style scoped>\n",
       "    .dataframe tbody tr th:only-of-type {\n",
       "        vertical-align: middle;\n",
       "    }\n",
       "\n",
       "    .dataframe tbody tr th {\n",
       "        vertical-align: top;\n",
       "    }\n",
       "\n",
       "    .dataframe thead th {\n",
       "        text-align: right;\n",
       "    }\n",
       "</style>\n",
       "<table border=\"1\" class=\"dataframe\">\n",
       "  <thead>\n",
       "    <tr style=\"text-align: right;\">\n",
       "      <th>class</th>\n",
       "      <th>Fraud</th>\n",
       "      <th>Non_Fraud</th>\n",
       "    </tr>\n",
       "  </thead>\n",
       "  <tbody>\n",
       "    <tr>\n",
       "      <th>amin</th>\n",
       "      <td>0.00</td>\n",
       "      <td>0.00</td>\n",
       "    </tr>\n",
       "    <tr>\n",
       "      <th>amax</th>\n",
       "      <td>5674.00</td>\n",
       "      <td>18949.00</td>\n",
       "    </tr>\n",
       "    <tr>\n",
       "      <th>mean</th>\n",
       "      <td>348.76</td>\n",
       "      <td>456.05</td>\n",
       "    </tr>\n",
       "    <tr>\n",
       "      <th>median</th>\n",
       "      <td>83.00</td>\n",
       "      <td>231.00</td>\n",
       "    </tr>\n",
       "  </tbody>\n",
       "</table>\n",
       "</div>"
      ],
      "text/plain": [
       "class     Fraud  Non_Fraud\n",
       "amin       0.00       0.00\n",
       "amax    5674.00   18949.00\n",
       "mean     348.76     456.05\n",
       "median    83.00     231.00"
      ]
     },
     "execution_count": 55,
     "metadata": {},
     "output_type": "execute_result"
    },
    {
     "data": {
      "image/png": "[encoded data removed]",
      "text/plain": [
       "<Figure size 720x504 with 1 Axes>"
      ]
     },
     "metadata": {},
     "output_type": "display_data"
    }
   ],
   "source": [
    "plot_box(all_trans,'class','timedelta_last_trans','Distribution of Delay vs Class')\n",
    "stats_by_class('timedelta_last_trans')"
   ]
  },
  {
   "cell_type": "markdown",
   "id": "ec6888ad",
   "metadata": {},
   "source": [
    "Inference :\n",
    "\n",
    "The Successive fraud transactions are quicky happenin compared to the other transactions"
   ]
  },
  {
   "cell_type": "markdown",
   "id": "2b2504c2",
   "metadata": {},
   "source": [
    "The Weekday of the Transaction\n",
    "\n"
   ]
  },
  {
   "cell_type": "code",
   "execution_count": 56,
   "id": "44948bf7",
   "metadata": {},
   "outputs": [
    {
     "name": "stdout",
     "output_type": "stream",
     "text": [
      "\n",
      "Normalized frequency of < trans_dayofweek > on both classes and the percentage diffrence\n",
      "\n"
     ]
    },
    {
     "data": {
      "text/html": [
       "<div>\n",
       "<style scoped>\n",
       "    .dataframe tbody tr th:only-of-type {\n",
       "        vertical-align: middle;\n",
       "    }\n",
       "\n",
       "    .dataframe tbody tr th {\n",
       "        vertical-align: top;\n",
       "    }\n",
       "\n",
       "    .dataframe thead th {\n",
       "        text-align: right;\n",
       "    }\n",
       "</style>\n",
       "<table border=\"1\" class=\"dataframe\">\n",
       "  <thead>\n",
       "    <tr style=\"text-align: right;\">\n",
       "      <th></th>\n",
       "      <th>trans_dayofweek</th>\n",
       "      <th>normal</th>\n",
       "      <th>fraud</th>\n",
       "      <th>diff in %</th>\n",
       "    </tr>\n",
       "  </thead>\n",
       "  <tbody>\n",
       "    <tr>\n",
       "      <th>0</th>\n",
       "      <td>Monday</td>\n",
       "      <td>20.744110</td>\n",
       "      <td>14.079254</td>\n",
       "      <td>-6.664856</td>\n",
       "    </tr>\n",
       "    <tr>\n",
       "      <th>1</th>\n",
       "      <td>Tuesday</td>\n",
       "      <td>19.831495</td>\n",
       "      <td>15.431235</td>\n",
       "      <td>-4.400260</td>\n",
       "    </tr>\n",
       "    <tr>\n",
       "      <th>2</th>\n",
       "      <td>Sunday</td>\n",
       "      <td>16.750064</td>\n",
       "      <td>17.435897</td>\n",
       "      <td>0.685833</td>\n",
       "    </tr>\n",
       "    <tr>\n",
       "      <th>4</th>\n",
       "      <td>Saturday</td>\n",
       "      <td>11.200671</td>\n",
       "      <td>12.400932</td>\n",
       "      <td>1.200262</td>\n",
       "    </tr>\n",
       "    <tr>\n",
       "      <th>3</th>\n",
       "      <td>Friday</td>\n",
       "      <td>11.291896</td>\n",
       "      <td>13.846154</td>\n",
       "      <td>2.554258</td>\n",
       "    </tr>\n",
       "    <tr>\n",
       "      <th>6</th>\n",
       "      <td>Wednesday</td>\n",
       "      <td>9.497195</td>\n",
       "      <td>12.400932</td>\n",
       "      <td>2.903738</td>\n",
       "    </tr>\n",
       "    <tr>\n",
       "      <th>5</th>\n",
       "      <td>Thursday</td>\n",
       "      <td>10.684570</td>\n",
       "      <td>14.405594</td>\n",
       "      <td>3.721025</td>\n",
       "    </tr>\n",
       "  </tbody>\n",
       "</table>\n",
       "</div>"
      ],
      "text/plain": [
       "  trans_dayofweek     normal      fraud  diff in %\n",
       "0          Monday  20.744110  14.079254  -6.664856\n",
       "1         Tuesday  19.831495  15.431235  -4.400260\n",
       "2          Sunday  16.750064  17.435897   0.685833\n",
       "4        Saturday  11.200671  12.400932   1.200262\n",
       "3          Friday  11.291896  13.846154   2.554258\n",
       "6       Wednesday   9.497195  12.400932   2.903738\n",
       "5        Thursday  10.684570  14.405594   3.721025"
      ]
     },
     "execution_count": 56,
     "metadata": {},
     "output_type": "execute_result"
    },
    {
     "data": {
      "image/png": "[encoded data removed]",
      "text/plain": [
       "<Figure size 1440x504 with 1 Axes>"
      ]
     },
     "metadata": {},
     "output_type": "display_data"
    }
   ],
   "source": [
    "normalize_count_by_class('trans_dayofweek')\n"
   ]
  },
  {
   "cell_type": "markdown",
   "id": "1d01973e",
   "metadata": {},
   "source": [
    "Inference :\n",
    "\n",
    "The normalized percentage of the fraud transactions seems to be slight higher in wednesday, thursday, frid"
   ]
  },
  {
   "cell_type": "markdown",
   "id": "d1766cef",
   "metadata": {},
   "source": [
    "Lat Distance between Customer & Merchant"
   ]
  },
  {
   "cell_type": "code",
   "execution_count": 57,
   "id": "855d7455",
   "metadata": {},
   "outputs": [
    {
     "data": {
      "image/png": "[encoded data removed]",
      "text/plain": [
       "<Figure size 720x504 with 1 Axes>"
      ]
     },
     "metadata": {},
     "output_type": "display_data"
    }
   ],
   "source": [
    "plot_box(all_trans,'class','lat_dist_cust_merch','Distribution of Lat Distance Between Merchant and Customer'); # calling the boxplot function"
   ]
  },
  {
   "cell_type": "markdown",
   "id": "debfccf6",
   "metadata": {},
   "source": [
    "Inference :\n",
    "\n",
    "There is no any observable difference in the overall distribution in the lat diatsnce between the customer and the merchant"
   ]
  },
  {
   "cell_type": "markdown",
   "id": "d023a192",
   "metadata": {},
   "source": [
    "Long Distance between Customer & Merchant\n",
    "\n"
   ]
  },
  {
   "cell_type": "code",
   "execution_count": 59,
   "id": "a688b854",
   "metadata": {},
   "outputs": [
    {
     "data": {
      "image/png": "[encoded data removed]",
      "text/plain": [
       "<Figure size 720x504 with 1 Axes>"
      ]
     },
     "metadata": {},
     "output_type": "display_data"
    }
   ],
   "source": [
    "plot_box(all_trans,'class','long_dist_cust_merch','Distribution of Long Distance Between Merchant and Customer'); # calling the boxplot function\n"
   ]
  },
  {
   "cell_type": "markdown",
   "id": "bdfe7b4d",
   "metadata": {},
   "source": [
    "Inference :\n",
    "\n",
    "There is no any observable difference in the overall distribution in the long diatsnce between the customer and the merchan\n"
   ]
  },
  {
   "cell_type": "markdown",
   "id": "8ac7ba8e",
   "metadata": {},
   "source": [
    "Lat Distance between Current Customer & Prev-Merchant"
   ]
  },
  {
   "cell_type": "code",
   "execution_count": 61,
   "id": "d9d40971",
   "metadata": {},
   "outputs": [
    {
     "data": {
      "image/png": "[encoded data removed]",
      "text/plain": [
       "<Figure size 720x504 with 1 Axes>"
      ]
     },
     "metadata": {},
     "output_type": "display_data"
    }
   ],
   "source": [
    "plot_box(all_trans,'class','lat_dist_prev_merch','Distribution of Lat Distance Between Merchant and Customer');"
   ]
  },
  {
   "cell_type": "markdown",
   "id": "bf73b452",
   "metadata": {},
   "source": [
    "Inference :\n",
    "\n",
    "There is no any observable difference in the overall distribution in the lat diatsnce between the current and the previouse merchant"
   ]
  },
  {
   "cell_type": "markdown",
   "id": "c9457753",
   "metadata": {},
   "source": [
    "Long Distance between Current Customer & Prev-Merchant\n",
    "\n"
   ]
  },
  {
   "cell_type": "code",
   "execution_count": 62,
   "id": "a86b4d78",
   "metadata": {},
   "outputs": [
    {
     "data": {
      "image/png": "[encoded data removed]",
      "text/plain": [
       "<Figure size 720x504 with 1 Axes>"
      ]
     },
     "metadata": {},
     "output_type": "display_data"
    }
   ],
   "source": [
    "plot_box(all_trans,'class','long_dist_prev_merch','Distribution of Lomg Distance Between Merchant and Customer');"
   ]
  },
  {
   "cell_type": "markdown",
   "id": "1fb85993",
   "metadata": {},
   "source": [
    "Inference :\n",
    "\n",
    "There is no any observable difference in the overall distribution in the long diatsnce between the current and the previouse merchant"
   ]
  },
  {
   "cell_type": "code",
   "execution_count": 63,
   "id": "a71d07e4",
   "metadata": {},
   "outputs": [
    {
     "name": "stdout",
     "output_type": "stream",
     "text": [
      "\n",
      "Normalized frequency of < category > on both classes and the percentage diffrence\n",
      "\n"
     ]
    },
    {
     "data": {
      "text/html": [
       "<div>\n",
       "<style scoped>\n",
       "    .dataframe tbody tr th:only-of-type {\n",
       "        vertical-align: middle;\n",
       "    }\n",
       "\n",
       "    .dataframe tbody tr th {\n",
       "        vertical-align: top;\n",
       "    }\n",
       "\n",
       "    .dataframe thead th {\n",
       "        text-align: right;\n",
       "    }\n",
       "</style>\n",
       "<table border=\"1\" class=\"dataframe\">\n",
       "  <thead>\n",
       "    <tr style=\"text-align: right;\">\n",
       "      <th></th>\n",
       "      <th>category</th>\n",
       "      <th>normal</th>\n",
       "      <th>fraud</th>\n",
       "      <th>diff in %</th>\n",
       "    </tr>\n",
       "  </thead>\n",
       "  <tbody>\n",
       "    <tr>\n",
       "      <th>1</th>\n",
       "      <td>home</td>\n",
       "      <td>9.443724</td>\n",
       "      <td>3.123543</td>\n",
       "      <td>-6.320181</td>\n",
       "    </tr>\n",
       "    <tr>\n",
       "      <th>4</th>\n",
       "      <td>kids_pets</td>\n",
       "      <td>8.784191</td>\n",
       "      <td>3.030303</td>\n",
       "      <td>-5.753888</td>\n",
       "    </tr>\n",
       "    <tr>\n",
       "      <th>8</th>\n",
       "      <td>food_dining</td>\n",
       "      <td>7.083786</td>\n",
       "      <td>2.517483</td>\n",
       "      <td>-4.566304</td>\n",
       "    </tr>\n",
       "    <tr>\n",
       "      <th>6</th>\n",
       "      <td>entertainment</td>\n",
       "      <td>7.233902</td>\n",
       "      <td>2.750583</td>\n",
       "      <td>-4.483319</td>\n",
       "    </tr>\n",
       "    <tr>\n",
       "      <th>9</th>\n",
       "      <td>health_fitness</td>\n",
       "      <td>6.615556</td>\n",
       "      <td>2.424242</td>\n",
       "      <td>-4.191314</td>\n",
       "    </tr>\n",
       "    <tr>\n",
       "      <th>7</th>\n",
       "      <td>personal_care</td>\n",
       "      <td>7.091554</td>\n",
       "      <td>3.263403</td>\n",
       "      <td>-3.828151</td>\n",
       "    </tr>\n",
       "    <tr>\n",
       "      <th>0</th>\n",
       "      <td>gas_transport</td>\n",
       "      <td>10.155101</td>\n",
       "      <td>7.179487</td>\n",
       "      <td>-2.975614</td>\n",
       "    </tr>\n",
       "    <tr>\n",
       "      <th>10</th>\n",
       "      <td>misc_pos</td>\n",
       "      <td>6.232590</td>\n",
       "      <td>3.356643</td>\n",
       "      <td>-2.875947</td>\n",
       "    </tr>\n",
       "    <tr>\n",
       "      <th>12</th>\n",
       "      <td>grocery_net</td>\n",
       "      <td>3.501790</td>\n",
       "      <td>1.911422</td>\n",
       "      <td>-1.590368</td>\n",
       "    </tr>\n",
       "    <tr>\n",
       "      <th>13</th>\n",
       "      <td>travel</td>\n",
       "      <td>3.144837</td>\n",
       "      <td>1.864802</td>\n",
       "      <td>-1.280035</td>\n",
       "    </tr>\n",
       "    <tr>\n",
       "      <th>3</th>\n",
       "      <td>shopping_pos</td>\n",
       "      <td>8.955984</td>\n",
       "      <td>9.930070</td>\n",
       "      <td>0.974086</td>\n",
       "    </tr>\n",
       "    <tr>\n",
       "      <th>11</th>\n",
       "      <td>misc_net</td>\n",
       "      <td>4.895461</td>\n",
       "      <td>12.447552</td>\n",
       "      <td>7.552091</td>\n",
       "    </tr>\n",
       "    <tr>\n",
       "      <th>2</th>\n",
       "      <td>grocery_pos</td>\n",
       "      <td>9.405789</td>\n",
       "      <td>22.610723</td>\n",
       "      <td>13.204934</td>\n",
       "    </tr>\n",
       "    <tr>\n",
       "      <th>5</th>\n",
       "      <td>shopping_net</td>\n",
       "      <td>7.455733</td>\n",
       "      <td>23.589744</td>\n",
       "      <td>16.134010</td>\n",
       "    </tr>\n",
       "  </tbody>\n",
       "</table>\n",
       "</div>"
      ],
      "text/plain": [
       "          category     normal      fraud  diff in %\n",
       "1             home   9.443724   3.123543  -6.320181\n",
       "4        kids_pets   8.784191   3.030303  -5.753888\n",
       "8      food_dining   7.083786   2.517483  -4.566304\n",
       "6    entertainment   7.233902   2.750583  -4.483319\n",
       "9   health_fitness   6.615556   2.424242  -4.191314\n",
       "7    personal_care   7.091554   3.263403  -3.828151\n",
       "0    gas_transport  10.155101   7.179487  -2.975614\n",
       "10        misc_pos   6.232590   3.356643  -2.875947\n",
       "12     grocery_net   3.501790   1.911422  -1.590368\n",
       "13          travel   3.144837   1.864802  -1.280035\n",
       "3     shopping_pos   8.955984   9.930070   0.974086\n",
       "11        misc_net   4.895461  12.447552   7.552091\n",
       "2      grocery_pos   9.405789  22.610723  13.204934\n",
       "5     shopping_net   7.455733  23.589744  16.134010"
      ]
     },
     "execution_count": 63,
     "metadata": {},
     "output_type": "execute_result"
    },
    {
     "data": {
      "image/png": "[encoded data removed]",
      "text/plain": [
       "<Figure size 1440x504 with 1 Axes>"
      ]
     },
     "metadata": {},
     "output_type": "display_data"
    }
   ],
   "source": [
    "#Category of Item/Service Purchased\n",
    "normalize_count_by_class('category')\n"
   ]
  },
  {
   "cell_type": "markdown",
   "id": "fa948a6b",
   "metadata": {},
   "source": [
    "Inference :\n",
    "\n",
    "The normalized percentage of the grocery_pos, shopping_pos, shopping_net, misc_net are higher for frad transactions\n"
   ]
  },
  {
   "cell_type": "code",
   "execution_count": 64,
   "id": "42bb0d91",
   "metadata": {},
   "outputs": [
    {
     "name": "stdout",
     "output_type": "stream",
     "text": [
      "\n",
      "Normalized frequency of < state > on both classes and the percentage diffrence\n",
      "\n"
     ]
    },
    {
     "data": {
      "text/html": [
       "<div>\n",
       "<style scoped>\n",
       "    .dataframe tbody tr th:only-of-type {\n",
       "        vertical-align: middle;\n",
       "    }\n",
       "\n",
       "    .dataframe tbody tr th {\n",
       "        vertical-align: top;\n",
       "    }\n",
       "\n",
       "    .dataframe thead th {\n",
       "        text-align: right;\n",
       "    }\n",
       "</style>\n",
       "<table border=\"1\" class=\"dataframe\">\n",
       "  <thead>\n",
       "    <tr style=\"text-align: right;\">\n",
       "      <th></th>\n",
       "      <th>state</th>\n",
       "      <th>normal</th>\n",
       "      <th>fraud</th>\n",
       "      <th>diff in %</th>\n",
       "    </tr>\n",
       "  </thead>\n",
       "  <tbody>\n",
       "    <tr>\n",
       "      <th>0</th>\n",
       "      <td>tx</td>\n",
       "      <td>7.276353</td>\n",
       "      <td>5.268065</td>\n",
       "      <td>-2.008288</td>\n",
       "    </tr>\n",
       "    <tr>\n",
       "      <th>4</th>\n",
       "      <td>oh</td>\n",
       "      <td>3.632396</td>\n",
       "      <td>1.818182</td>\n",
       "      <td>-1.814214</td>\n",
       "    </tr>\n",
       "    <tr>\n",
       "      <th>28</th>\n",
       "      <td>wy</td>\n",
       "      <td>1.525541</td>\n",
       "      <td>0.419580</td>\n",
       "      <td>-1.105961</td>\n",
       "    </tr>\n",
       "    <tr>\n",
       "      <th>35</th>\n",
       "      <td>co</td>\n",
       "      <td>1.062911</td>\n",
       "      <td>0.093240</td>\n",
       "      <td>-0.969671</td>\n",
       "    </tr>\n",
       "    <tr>\n",
       "      <th>2</th>\n",
       "      <td>pa</td>\n",
       "      <td>6.180204</td>\n",
       "      <td>5.314685</td>\n",
       "      <td>-0.865518</td>\n",
       "    </tr>\n",
       "    <tr>\n",
       "      <th>11</th>\n",
       "      <td>ar</td>\n",
       "      <td>2.429666</td>\n",
       "      <td>1.585082</td>\n",
       "      <td>-0.844585</td>\n",
       "    </tr>\n",
       "    <tr>\n",
       "      <th>3</th>\n",
       "      <td>ca</td>\n",
       "      <td>4.346122</td>\n",
       "      <td>3.543124</td>\n",
       "      <td>-0.802998</td>\n",
       "    </tr>\n",
       "    <tr>\n",
       "      <th>7</th>\n",
       "      <td>fl</td>\n",
       "      <td>3.260811</td>\n",
       "      <td>2.470862</td>\n",
       "      <td>-0.789948</td>\n",
       "    </tr>\n",
       "    <tr>\n",
       "      <th>5</th>\n",
       "      <td>mi</td>\n",
       "      <td>3.542435</td>\n",
       "      <td>2.843823</td>\n",
       "      <td>-0.698612</td>\n",
       "    </tr>\n",
       "    <tr>\n",
       "      <th>26</th>\n",
       "      <td>la</td>\n",
       "      <td>1.619657</td>\n",
       "      <td>1.025641</td>\n",
       "      <td>-0.594016</td>\n",
       "    </tr>\n",
       "    <tr>\n",
       "      <th>33</th>\n",
       "      <td>me</td>\n",
       "      <td>1.248794</td>\n",
       "      <td>0.699301</td>\n",
       "      <td>-0.549493</td>\n",
       "    </tr>\n",
       "    <tr>\n",
       "      <th>31</th>\n",
       "      <td>tn</td>\n",
       "      <td>1.325929</td>\n",
       "      <td>0.885781</td>\n",
       "      <td>-0.440148</td>\n",
       "    </tr>\n",
       "    <tr>\n",
       "      <th>13</th>\n",
       "      <td>sc</td>\n",
       "      <td>2.257693</td>\n",
       "      <td>2.004662</td>\n",
       "      <td>-0.253031</td>\n",
       "    </tr>\n",
       "    <tr>\n",
       "      <th>8</th>\n",
       "      <td>al</td>\n",
       "      <td>3.155676</td>\n",
       "      <td>2.937063</td>\n",
       "      <td>-0.218613</td>\n",
       "    </tr>\n",
       "    <tr>\n",
       "      <th>12</th>\n",
       "      <td>nc</td>\n",
       "      <td>2.316221</td>\n",
       "      <td>2.144522</td>\n",
       "      <td>-0.171699</td>\n",
       "    </tr>\n",
       "    <tr>\n",
       "      <th>24</th>\n",
       "      <td>ne</td>\n",
       "      <td>1.846366</td>\n",
       "      <td>1.678322</td>\n",
       "      <td>-0.168044</td>\n",
       "    </tr>\n",
       "    <tr>\n",
       "      <th>36</th>\n",
       "      <td>sd</td>\n",
       "      <td>0.945131</td>\n",
       "      <td>0.839161</td>\n",
       "      <td>-0.105970</td>\n",
       "    </tr>\n",
       "    <tr>\n",
       "      <th>37</th>\n",
       "      <td>ma</td>\n",
       "      <td>0.933570</td>\n",
       "      <td>0.839161</td>\n",
       "      <td>-0.094409</td>\n",
       "    </tr>\n",
       "    <tr>\n",
       "      <th>25</th>\n",
       "      <td>ks</td>\n",
       "      <td>1.789463</td>\n",
       "      <td>1.724942</td>\n",
       "      <td>-0.064521</td>\n",
       "    </tr>\n",
       "    <tr>\n",
       "      <th>29</th>\n",
       "      <td>wa</td>\n",
       "      <td>1.460690</td>\n",
       "      <td>1.398601</td>\n",
       "      <td>-0.062089</td>\n",
       "    </tr>\n",
       "    <tr>\n",
       "      <th>34</th>\n",
       "      <td>nd</td>\n",
       "      <td>1.150704</td>\n",
       "      <td>1.258741</td>\n",
       "      <td>0.108037</td>\n",
       "    </tr>\n",
       "    <tr>\n",
       "      <th>23</th>\n",
       "      <td>nj</td>\n",
       "      <td>1.894056</td>\n",
       "      <td>2.004662</td>\n",
       "      <td>0.110606</td>\n",
       "    </tr>\n",
       "    <tr>\n",
       "      <th>6</th>\n",
       "      <td>il</td>\n",
       "      <td>3.411287</td>\n",
       "      <td>3.543124</td>\n",
       "      <td>0.131836</td>\n",
       "    </tr>\n",
       "    <tr>\n",
       "      <th>21</th>\n",
       "      <td>md</td>\n",
       "      <td>2.006236</td>\n",
       "      <td>2.144522</td>\n",
       "      <td>0.138286</td>\n",
       "    </tr>\n",
       "    <tr>\n",
       "      <th>46</th>\n",
       "      <td>dc</td>\n",
       "      <td>0.272231</td>\n",
       "      <td>0.466200</td>\n",
       "      <td>0.193969</td>\n",
       "    </tr>\n",
       "    <tr>\n",
       "      <th>47</th>\n",
       "      <td>hi</td>\n",
       "      <td>0.195277</td>\n",
       "      <td>0.419580</td>\n",
       "      <td>0.224304</td>\n",
       "    </tr>\n",
       "    <tr>\n",
       "      <th>42</th>\n",
       "      <td>nh</td>\n",
       "      <td>0.619429</td>\n",
       "      <td>0.932401</td>\n",
       "      <td>0.312972</td>\n",
       "    </tr>\n",
       "    <tr>\n",
       "      <th>9</th>\n",
       "      <td>mo</td>\n",
       "      <td>2.967986</td>\n",
       "      <td>3.310023</td>\n",
       "      <td>0.342037</td>\n",
       "    </tr>\n",
       "    <tr>\n",
       "      <th>41</th>\n",
       "      <td>az</td>\n",
       "      <td>0.824641</td>\n",
       "      <td>1.258741</td>\n",
       "      <td>0.434100</td>\n",
       "    </tr>\n",
       "    <tr>\n",
       "      <th>48</th>\n",
       "      <td>ak</td>\n",
       "      <td>0.149754</td>\n",
       "      <td>0.652681</td>\n",
       "      <td>0.502927</td>\n",
       "    </tr>\n",
       "    <tr>\n",
       "      <th>32</th>\n",
       "      <td>nm</td>\n",
       "      <td>1.261078</td>\n",
       "      <td>1.818182</td>\n",
       "      <td>0.557104</td>\n",
       "    </tr>\n",
       "    <tr>\n",
       "      <th>44</th>\n",
       "      <td>id</td>\n",
       "      <td>0.445830</td>\n",
       "      <td>1.025641</td>\n",
       "      <td>0.579811</td>\n",
       "    </tr>\n",
       "    <tr>\n",
       "      <th>19</th>\n",
       "      <td>ok</td>\n",
       "      <td>2.045255</td>\n",
       "      <td>2.657343</td>\n",
       "      <td>0.612088</td>\n",
       "    </tr>\n",
       "    <tr>\n",
       "      <th>20</th>\n",
       "      <td>ga</td>\n",
       "      <td>2.026649</td>\n",
       "      <td>2.703963</td>\n",
       "      <td>0.677314</td>\n",
       "    </tr>\n",
       "    <tr>\n",
       "      <th>16</th>\n",
       "      <td>wi</td>\n",
       "      <td>2.222828</td>\n",
       "      <td>3.030303</td>\n",
       "      <td>0.807475</td>\n",
       "    </tr>\n",
       "    <tr>\n",
       "      <th>39</th>\n",
       "      <td>mt</td>\n",
       "      <td>0.905931</td>\n",
       "      <td>1.724942</td>\n",
       "      <td>0.819010</td>\n",
       "    </tr>\n",
       "    <tr>\n",
       "      <th>30</th>\n",
       "      <td>or</td>\n",
       "      <td>1.402342</td>\n",
       "      <td>2.237762</td>\n",
       "      <td>0.835420</td>\n",
       "    </tr>\n",
       "    <tr>\n",
       "      <th>14</th>\n",
       "      <td>ky</td>\n",
       "      <td>2.247035</td>\n",
       "      <td>3.123543</td>\n",
       "      <td>0.876508</td>\n",
       "    </tr>\n",
       "    <tr>\n",
       "      <th>27</th>\n",
       "      <td>ms</td>\n",
       "      <td>1.585877</td>\n",
       "      <td>2.517483</td>\n",
       "      <td>0.931606</td>\n",
       "    </tr>\n",
       "    <tr>\n",
       "      <th>10</th>\n",
       "      <td>mn</td>\n",
       "      <td>2.465072</td>\n",
       "      <td>3.403263</td>\n",
       "      <td>0.938191</td>\n",
       "    </tr>\n",
       "    <tr>\n",
       "      <th>18</th>\n",
       "      <td>ia</td>\n",
       "      <td>2.122571</td>\n",
       "      <td>3.216783</td>\n",
       "      <td>1.094212</td>\n",
       "    </tr>\n",
       "    <tr>\n",
       "      <th>15</th>\n",
       "      <td>va</td>\n",
       "      <td>2.245590</td>\n",
       "      <td>3.496503</td>\n",
       "      <td>1.250914</td>\n",
       "    </tr>\n",
       "    <tr>\n",
       "      <th>43</th>\n",
       "      <td>ct</td>\n",
       "      <td>0.584746</td>\n",
       "      <td>1.864802</td>\n",
       "      <td>1.280056</td>\n",
       "    </tr>\n",
       "    <tr>\n",
       "      <th>17</th>\n",
       "      <td>in</td>\n",
       "      <td>2.146777</td>\n",
       "      <td>3.496503</td>\n",
       "      <td>1.349726</td>\n",
       "    </tr>\n",
       "    <tr>\n",
       "      <th>1</th>\n",
       "      <td>ny</td>\n",
       "      <td>6.456770</td>\n",
       "      <td>8.158508</td>\n",
       "      <td>1.701738</td>\n",
       "    </tr>\n",
       "    <tr>\n",
       "      <th>22</th>\n",
       "      <td>wv</td>\n",
       "      <td>1.957823</td>\n",
       "      <td>NaN</td>\n",
       "      <td>NaN</td>\n",
       "    </tr>\n",
       "    <tr>\n",
       "      <th>38</th>\n",
       "      <td>vt</td>\n",
       "      <td>0.911170</td>\n",
       "      <td>NaN</td>\n",
       "      <td>NaN</td>\n",
       "    </tr>\n",
       "    <tr>\n",
       "      <th>40</th>\n",
       "      <td>ut</td>\n",
       "      <td>0.841441</td>\n",
       "      <td>NaN</td>\n",
       "      <td>NaN</td>\n",
       "    </tr>\n",
       "    <tr>\n",
       "      <th>45</th>\n",
       "      <td>nv</td>\n",
       "      <td>0.442759</td>\n",
       "      <td>NaN</td>\n",
       "      <td>NaN</td>\n",
       "    </tr>\n",
       "    <tr>\n",
       "      <th>49</th>\n",
       "      <td>ri</td>\n",
       "      <td>0.035226</td>\n",
       "      <td>NaN</td>\n",
       "      <td>NaN</td>\n",
       "    </tr>\n",
       "  </tbody>\n",
       "</table>\n",
       "</div>"
      ],
      "text/plain": [
       "   state    normal     fraud  diff in %\n",
       "0     tx  7.276353  5.268065  -2.008288\n",
       "4     oh  3.632396  1.818182  -1.814214\n",
       "28    wy  1.525541  0.419580  -1.105961\n",
       "35    co  1.062911  0.093240  -0.969671\n",
       "2     pa  6.180204  5.314685  -0.865518\n",
       "11    ar  2.429666  1.585082  -0.844585\n",
       "3     ca  4.346122  3.543124  -0.802998\n",
       "7     fl  3.260811  2.470862  -0.789948\n",
       "5     mi  3.542435  2.843823  -0.698612\n",
       "26    la  1.619657  1.025641  -0.594016\n",
       "33    me  1.248794  0.699301  -0.549493\n",
       "31    tn  1.325929  0.885781  -0.440148\n",
       "13    sc  2.257693  2.004662  -0.253031\n",
       "8     al  3.155676  2.937063  -0.218613\n",
       "12    nc  2.316221  2.144522  -0.171699\n",
       "24    ne  1.846366  1.678322  -0.168044\n",
       "36    sd  0.945131  0.839161  -0.105970\n",
       "37    ma  0.933570  0.839161  -0.094409\n",
       "25    ks  1.789463  1.724942  -0.064521\n",
       "29    wa  1.460690  1.398601  -0.062089\n",
       "34    nd  1.150704  1.258741   0.108037\n",
       "23    nj  1.894056  2.004662   0.110606\n",
       "6     il  3.411287  3.543124   0.131836\n",
       "21    md  2.006236  2.144522   0.138286\n",
       "46    dc  0.272231  0.466200   0.193969\n",
       "47    hi  0.195277  0.419580   0.224304\n",
       "42    nh  0.619429  0.932401   0.312972\n",
       "9     mo  2.967986  3.310023   0.342037\n",
       "41    az  0.824641  1.258741   0.434100\n",
       "48    ak  0.149754  0.652681   0.502927\n",
       "32    nm  1.261078  1.818182   0.557104\n",
       "44    id  0.445830  1.025641   0.579811\n",
       "19    ok  2.045255  2.657343   0.612088\n",
       "20    ga  2.026649  2.703963   0.677314\n",
       "16    wi  2.222828  3.030303   0.807475\n",
       "39    mt  0.905931  1.724942   0.819010\n",
       "30    or  1.402342  2.237762   0.835420\n",
       "14    ky  2.247035  3.123543   0.876508\n",
       "27    ms  1.585877  2.517483   0.931606\n",
       "10    mn  2.465072  3.403263   0.938191\n",
       "18    ia  2.122571  3.216783   1.094212\n",
       "15    va  2.245590  3.496503   1.250914\n",
       "43    ct  0.584746  1.864802   1.280056\n",
       "17    in  2.146777  3.496503   1.349726\n",
       "1     ny  6.456770  8.158508   1.701738\n",
       "22    wv  1.957823       NaN        NaN\n",
       "38    vt  0.911170       NaN        NaN\n",
       "40    ut  0.841441       NaN        NaN\n",
       "45    nv  0.442759       NaN        NaN\n",
       "49    ri  0.035226       NaN        NaN"
      ]
     },
     "execution_count": 64,
     "metadata": {},
     "output_type": "execute_result"
    },
    {
     "data": {
      "image/png": "[encoded data removed]",
      "text/plain": [
       "<Figure size 1800x504 with 1 Axes>"
      ]
     },
     "metadata": {},
     "output_type": "display_data"
    }
   ],
   "source": [
    "#State\n",
    "\n",
    "normalize_count_by_class('state', width = 25)"
   ]
  },
  {
   "cell_type": "code",
   "execution_count": 65,
   "id": "cad7a415",
   "metadata": {},
   "outputs": [
    {
     "data": {
      "image/png": "[encoded data removed]",
      "text/plain": [
       "<Figure size 1296x648 with 2 Axes>"
      ]
     },
     "metadata": {},
     "output_type": "display_data"
    }
   ],
   "source": [
    "#Correlation Matrix between the variables\n",
    "\n",
    "\n",
    "fig = plt.figure(figsize=(18,9))\n",
    "sns.heatmap(all_trans.corr(),cmap='coolwarm', annot=True)\n",
    "plt.show()\n"
   ]
  },
  {
   "cell_type": "markdown",
   "id": "c1e90c6d",
   "metadata": {},
   "source": [
    "Inference :\n",
    "\n",
    "There is not much visible correlations are seen."
   ]
  },
  {
   "cell_type": "code",
   "execution_count": null,
   "id": "86d8d33b",
   "metadata": {},
   "outputs": [],
   "source": []
  },
  {
   "cell_type": "markdown",
   "id": "329f14b4",
   "metadata": {},
   "source": [
    "Data Preprocessing\n",
    "7.1 Splitting the train and test data sets\n",
    "7.2 Create a symmetric train dataset based on the target variable\n",
    "7.3 Outlier handing\n",
    "7.4 Categorical Encoding\n",
    "7.5 Variable Transformation\n",
    "7.7 Feature Scalling.\n"
   ]
  },
  {
   "cell_type": "code",
   "execution_count": 66,
   "id": "2f093e84",
   "metadata": {},
   "outputs": [],
   "source": [
    "X = data.drop('is_fraud', axis=1)\n",
    "y=data['is_fraud']\n",
    "from sklearn.model_selection import train_test_split\n",
    "    \n",
    "X_train, X_test, y_train, y_test = train_test_split(X,y,test_size=0.3,random_state=101)"
   ]
  },
  {
   "cell_type": "markdown",
   "id": "d4a04253",
   "metadata": {},
   "source": [
    " Create a Symmetric train Dataset For Preprocessing\n",
    "\n",
    "Note : Since the data is highly imbalanced, all the operations like encoding, transformations, scalling and outlier handling can get hugly biased by the train dataset\n",
    "\n",
    "Strategy :\n",
    "\n",
    "Let us resample the traing data into a symmetric train dataset using the sklearn resample class (with 50 : 50 class distribution)\n",
    "Learn the parameters from the bench mark values from the symmetric dataset (train- symmetric)\n",
    "Apply the transformations to the real train and test datasets\n",
    "Why Skleran Resample at This stage\n",
    "\n",
    "since the dataset having lot of non-numerical variable, another oversampling methods will not work out at this stage\n",
    "Generating a bootstrap sample of a dataset for use in statistical estimation or hypothesis testing\n",
    "We will use the SMOTE or ADASYN later during the model building stage, ie, once all variable are converved to numbers and all the preprocessing are done"
   ]
  },
  {
   "cell_type": "markdown",
   "id": "d1295e30",
   "metadata": {},
   "source": [
    "7.3 Categorical Encoding Encoding\n",
    "\n",
    "Objective : To convert non-numeric categorical variables into numerical values to be used by model building phase, allowing them to use categorical data and improve performance, it prevent the curse of dimensionality\n",
    "\n",
    "Steps\n",
    "\n",
    "Check the cardinality of the variables\n",
    "Choose the encoding type\n",
    "Execute the encoding"
   ]
  },
  {
   "cell_type": "code",
   "execution_count": 69,
   "id": "2e45b0f1",
   "metadata": {},
   "outputs": [
    {
     "data": {
      "text/plain": [
       "state              50\n",
       "category           14\n",
       "trans_dayofweek     7\n",
       "gender              2\n",
       "dtype: int64"
      ]
     },
     "execution_count": 69,
     "metadata": {},
     "output_type": "execute_result"
    }
   ],
   "source": [
    "# Check the Cardinality of the Categorical variables\n",
    "\n",
    "cat_cols = X_train.select_dtypes(exclude = np.number).columns # choose the categorical variables\n",
    "\n",
    "X_train[cat_cols].nunique().sort_values(ascending = False) # look at the cardinalitries of the categorical variables\n"
   ]
  },
  {
   "cell_type": "markdown",
   "id": "3783ecd6",
   "metadata": {},
   "source": [
    ".3.B ) Choosing Encoding Types\n",
    "\n",
    "1.OneHotEncoding** : category , gender\n",
    "\n",
    "2.Target Guided Mean Encoding :** state,trans_dayofweek"
   ]
  },
  {
   "cell_type": "markdown",
   "id": "f9499fa4",
   "metadata": {},
   "source": [
    "7.3.C ) Execute the Encoding - OneHotEncoding\n",
    "\n",
    "import the OneHotEncoder Class from the feature engine"
   ]
  },
  {
   "cell_type": "code",
   "execution_count": 76,
   "id": "641c2204",
   "metadata": {},
   "outputs": [],
   "source": [
    "from feature_engine.encoding import OneHotEncoder\n"
   ]
  },
  {
   "cell_type": "code",
   "execution_count": 77,
   "id": "d539aafa",
   "metadata": {},
   "outputs": [],
   "source": [
    "variables = ['category','gender']\n"
   ]
  },
  {
   "cell_type": "code",
   "execution_count": 78,
   "id": "287652d6",
   "metadata": {},
   "outputs": [],
   "source": [
    "onehot_encod = OneHotEncoder(variables = variables, drop_last = True)\n"
   ]
  },
  {
   "cell_type": "code",
   "execution_count": 79,
   "id": "9a10d458",
   "metadata": {},
   "outputs": [],
   "source": [
    "from feature_engine.encoding import MeanEncoder\n",
    "variables = ['state','trans_dayofweek']\n",
    "mean_encod = MeanEncoder(variables = variables)\n"
   ]
  },
  {
   "cell_type": "code",
   "execution_count": 80,
   "id": "a28ba3e8",
   "metadata": {},
   "outputs": [
    {
     "data": {
      "text/plain": [
       "MeanEncoder(variables=['state', 'trans_dayofweek'])"
      ]
     },
     "execution_count": 80,
     "metadata": {},
     "output_type": "execute_result"
    }
   ],
   "source": [
    "mean_encod.fit(X_train,y_train)"
   ]
  },
  {
   "cell_type": "code",
   "execution_count": 81,
   "id": "36d95608",
   "metadata": {},
   "outputs": [
    {
     "data": {
      "text/plain": [
       "{'state': {'ak': 0.01697792869269949,\n",
       "  'al': 0.003258655804480652,\n",
       "  'ar': 0.002776591200341734,\n",
       "  'az': 0.0077471335605825845,\n",
       "  'ca': 0.003278688524590164,\n",
       "  'co': 0.00048579062424095217,\n",
       "  'ct': 0.013233348037053375,\n",
       "  'dc': 0.006622516556291391,\n",
       "  'fl': 0.0026888098062475287,\n",
       "  'ga': 0.0055422597304446404,\n",
       "  'hi': 0.007822685788787484,\n",
       "  'ia': 0.0054446460980036296,\n",
       "  'id': 0.00855188141391106,\n",
       "  'il': 0.003676746454565919,\n",
       "  'in': 0.006233517142172141,\n",
       "  'ks': 0.004901254144442843,\n",
       "  'ky': 0.005479452054794521,\n",
       "  'la': 0.0018885741265344666,\n",
       "  'ma': 0.0033048746901679976,\n",
       "  'md': 0.00387947756368809,\n",
       "  'me': 0.002050861361771944,\n",
       "  'mi': 0.0026242892549934393,\n",
       "  'mn': 0.004456420354440875,\n",
       "  'mo': 0.004784688995215311,\n",
       "  'ms': 0.005988023952095809,\n",
       "  'mt': 0.006482525366403607,\n",
       "  'nc': 0.003368137420006736,\n",
       "  'nd': 0.004472271914132379,\n",
       "  'ne': 0.0036470753261326973,\n",
       "  'nh': 0.0049261083743842365,\n",
       "  'nj': 0.0037832725307390892,\n",
       "  'nm': 0.007070707070707071,\n",
       "  'nv': 0.0,\n",
       "  'ny': 0.004656669297553276,\n",
       "  'oh': 0.0019786587520316586,\n",
       "  'ok': 0.005679713544882084,\n",
       "  'or': 0.007331378299120235,\n",
       "  'pa': 0.003034712118062773,\n",
       "  'ri': 0.0,\n",
       "  'sc': 0.00363595046017498,\n",
       "  'sd': 0.003029468465987331,\n",
       "  'tn': 0.002134264648816453,\n",
       "  'tx': 0.002652426085726411,\n",
       "  'ut': 0.0,\n",
       "  'va': 0.0066804883667357755,\n",
       "  'vt': 0.0,\n",
       "  'wa': 0.003723404255319149,\n",
       "  'wi': 0.005217996289424861,\n",
       "  'wv': 0.0,\n",
       "  'wy': 0.0008410428931875525},\n",
       " 'trans_dayofweek': {'Friday': 0.004243571901165841,\n",
       "  'Monday': 0.0025613105991239577,\n",
       "  'Saturday': 0.004192582354296245,\n",
       "  'Sunday': 0.004059498460454358,\n",
       "  'Thursday': 0.0054224707186581195,\n",
       "  'Tuesday': 0.003094812627871442,\n",
       "  'Wednesday': 0.005142779807822438}}"
      ]
     },
     "execution_count": 81,
     "metadata": {},
     "output_type": "execute_result"
    }
   ],
   "source": [
    "mean_encod.encoder_dict_\n"
   ]
  },
  {
   "cell_type": "code",
   "execution_count": 82,
   "id": "216d6f29",
   "metadata": {},
   "outputs": [],
   "source": [
    "X_train = mean_encod.transform(X_train) # Transforming the Real X Train\n",
    "\n",
    "X_test = mean_encod.transform(X_test) # Transforming the X test\n"
   ]
  },
  {
   "cell_type": "code",
   "execution_count": 83,
   "id": "5e33c6d9",
   "metadata": {},
   "outputs": [
    {
     "data": {
      "text/plain": [
       "category                 object\n",
       "amt                     float64\n",
       "gender                   object\n",
       "state                   float64\n",
       "city_pop                  int64\n",
       "trans_hour                int64\n",
       "trans_month               int64\n",
       "trans_dayofweek         float64\n",
       "timedelta_last_trans    float64\n",
       "cust_age                float64\n",
       "lat_dist_cust_merch     float64\n",
       "long_dist_cust_merch    float64\n",
       "lat_dist_prev_merch     float64\n",
       "long_dist_prev_merch    float64\n",
       "dtype: object"
      ]
     },
     "execution_count": 83,
     "metadata": {},
     "output_type": "execute_result"
    }
   ],
   "source": [
    "X_train.dtypes\n"
   ]
  },
  {
   "cell_type": "code",
   "execution_count": 84,
   "id": "d5f0fa86",
   "metadata": {},
   "outputs": [
    {
     "data": {
      "text/plain": [
       "amt                     34.561337\n",
       "state                    1.171835\n",
       "city_pop                 5.575649\n",
       "trans_hour              -0.286708\n",
       "trans_month             -0.130811\n",
       "trans_dayofweek          0.146134\n",
       "timedelta_last_trans     4.148754\n",
       "cust_age                 0.609884\n",
       "lat_dist_cust_merch     -0.001945\n",
       "long_dist_cust_merch    -0.000358\n",
       "lat_dist_prev_merch      0.568295\n",
       "long_dist_prev_merch     0.568116\n",
       "dtype: float64"
      ]
     },
     "execution_count": 84,
     "metadata": {},
     "output_type": "execute_result"
    }
   ],
   "source": [
    "X_train.skew()\n"
   ]
  },
  {
   "cell_type": "code",
   "execution_count": 85,
   "id": "aed77678",
   "metadata": {},
   "outputs": [
    {
     "data": {
      "text/plain": [
       "['amt', 'city_pop', 'timedelta_last_trans']"
      ]
     },
     "execution_count": 85,
     "metadata": {},
     "output_type": "execute_result"
    }
   ],
   "source": [
    "#list the variables having skewness more than 2.0 or lesser than -2.0\n",
    "\n",
    "skew = X_train.skew()\n",
    "feature_high_skew = list(skew[(skew > 2) | (skew < -2)].index)\n",
    "feature_high_skew"
   ]
  },
  {
   "cell_type": "code",
   "execution_count": 86,
   "id": "d085e5c7",
   "metadata": {},
   "outputs": [
    {
     "data": {
      "text/plain": [
       "category                entertainment\n",
       "amt                               1.0\n",
       "gender                              f\n",
       "state                             0.0\n",
       "city_pop                           23\n",
       "trans_hour                          0\n",
       "trans_month                         6\n",
       "trans_dayofweek              0.002561\n",
       "timedelta_last_trans              0.0\n",
       "cust_age                         15.0\n",
       "lat_dist_cust_merch          0.000002\n",
       "long_dist_cust_merch         0.000005\n",
       "lat_dist_prev_merch               0.0\n",
       "long_dist_prev_merch              0.0\n",
       "dtype: object"
      ]
     },
     "execution_count": 86,
     "metadata": {},
     "output_type": "execute_result"
    }
   ],
   "source": [
    "X_train.min()\n"
   ]
  },
  {
   "cell_type": "code",
   "execution_count": 87,
   "id": "fa345425",
   "metadata": {},
   "outputs": [],
   "source": [
    "\"\"\"\n",
    "Since we have zero or negative values in the dataset, We can try the following,\n",
    "\n",
    "Exponential Transformation\n",
    "Yoejohnson Transformation\n",
    "Import the YeoJohnsonTransformer from feature Engine\"\"\"\n",
    "\n",
    "from feature_engine.transformation import YeoJohnsonTransformer\n"
   ]
  },
  {
   "cell_type": "code",
   "execution_count": 88,
   "id": "53683661",
   "metadata": {},
   "outputs": [],
   "source": [
    "yeojohnson_transformer = YeoJohnsonTransformer(variables = feature_high_skew)\n"
   ]
  },
  {
   "cell_type": "code",
   "execution_count": 90,
   "id": "18b6ec12",
   "metadata": {},
   "outputs": [
    {
     "data": {
      "text/plain": [
       "YeoJohnsonTransformer(variables=['amt', 'city_pop', 'timedelta_last_trans'])"
      ]
     },
     "execution_count": 90,
     "metadata": {},
     "output_type": "execute_result"
    }
   ],
   "source": [
    "yeojohnson_transformer.fit(X_train)\n"
   ]
  },
  {
   "cell_type": "code",
   "execution_count": 91,
   "id": "2d1978c6",
   "metadata": {},
   "outputs": [],
   "source": [
    "X_train = yeojohnson_transformer.transform(X_train) # Transforming the Real X\n",
    "\n",
    "X_test = yeojohnson_transformer.transform(X_test) # Transforming the X test"
   ]
  },
  {
   "cell_type": "markdown",
   "id": "a1017776",
   "metadata": {},
   "source": [
    "7.5 Feature Scalling\n",
    "\n",
    "Lets use the min-max scaler (normalization) since the dataset is not in the risk of the outliers.\n",
    "\n",
    "Note : MinMaxScaler is a feature scaling method in scikit-learn which scales the data set so that all the features lie between 0 and 1, it helps to normalize the data and it's useful for algorithm that are sensitive to the scale of the input features"
   ]
  },
  {
   "cell_type": "code",
   "execution_count": 92,
   "id": "d72c642b",
   "metadata": {},
   "outputs": [],
   "source": [
    "from sklearn.preprocessing import MinMaxScaler\n"
   ]
  },
  {
   "cell_type": "code",
   "execution_count": 94,
   "id": "d8b94b05",
   "metadata": {},
   "outputs": [],
   "source": [
    "scaler = MinMaxScaler() # creating the scaler object\n"
   ]
  },
  {
   "cell_type": "code",
   "execution_count": 96,
   "id": "aea2c6a8",
   "metadata": {},
   "outputs": [
    {
     "name": "stdout",
     "output_type": "stream",
     "text": [
      "(389003, 14) (389003,) \n",
      "\n",
      "0    99.615941\n",
      "1     0.384059\n",
      "Name: is_fraud, dtype: float64\n"
     ]
    }
   ],
   "source": [
    "print(X_train.shape, y_train.shape,'\\n')\n",
    "print(y_train.value_counts(normalize = True)*100)"
   ]
  },
  {
   "cell_type": "markdown",
   "id": "ecf5b4e4",
   "metadata": {},
   "source": [
    "Import SMOTE, RandomUnderSampler & make_pipeline Classes from the imblearn"
   ]
  },
  {
   "cell_type": "code",
   "execution_count": 99,
   "id": "db939039",
   "metadata": {},
   "outputs": [],
   "source": [
    "from imblearn.over_sampling import SMOTE\n",
    "from imblearn.under_sampling import RandomUnderSampler\n",
    "from imblearn.pipeline import make_pipeline\n"
   ]
  },
  {
   "cell_type": "code",
   "execution_count": 100,
   "id": "9bd475b8",
   "metadata": {},
   "outputs": [
    {
     "data": {
      "text/plain": [
       "129169"
      ]
     },
     "execution_count": 100,
     "metadata": {},
     "output_type": "execute_result"
    }
   ],
   "source": [
    "ini_records = sum(y_train == 0) # get to the number record representing the majority class\n",
    "\n",
    "control_len = ini_records//3 # arriving the control length\n",
    "\n",
    "control_len # display the control lengh ( expected numeber of each class in the resulting dataset )\n"
   ]
  },
  {
   "cell_type": "code",
   "execution_count": 102,
   "id": "6a920f90",
   "metadata": {},
   "outputs": [],
   "source": [
    "#Make pipeline for making the sample for Training\n",
    "\n",
    "resample_pipeline_learning = make_pipeline(SMOTE(sampling_strategy = {1:control_len}, n_jobs = -1, random_state = 42), # oversampling of the minority class\n",
    "                                  RandomUnderSampler(sampling_strategy = {0:control_len},random_state = 42), # undersampling the majority class\n",
    "                                  verbose = 1)"
   ]
  },
  {
   "cell_type": "markdown",
   "id": "03ad903f",
   "metadata": {},
   "source": [
    "X_resampled, y_resampled = resample_pipeline_learning.fit_resample(X_train,y_train)\n"
   ]
  },
  {
   "cell_type": "markdown",
   "id": "b9c179eb",
   "metadata": {},
   "source": [
    "print(X_resampled.shape, y_resampled.shape,'\\n')\n",
    "print(y_resampled.value_counts(normalize = True)*100)"
   ]
  },
  {
   "cell_type": "markdown",
   "id": "833771e1",
   "metadata": {},
   "source": [
    "control_len = 100000 # limiting the length of each class into much reduced size\n",
    "\n",
    "resample_pipeline_hp_tuning = make_pipeline(SMOTE(sampling_strategy = {1:control_len}, n_jobs = -1, random_state = 42), # over sampling the minority class\n",
    "                                  RandomUnderSampler(sampling_strategy = {0:control_len},random_state = 42), # undersampling the majority class\n",
    "                                  verbose = 1)\n",
    "\n",
    "X_hp_tuning, y_hp_tuning = resample_pipeline_hp_tuning.fit_resample(X_train,y_train) # resampling with the pipeline"
   ]
  },
  {
   "cell_type": "code",
   "execution_count": 106,
   "id": "f617f08a",
   "metadata": {},
   "outputs": [],
   "source": [
    "variable_remove = ['train_data','test_data','drop_cols2','stats_by_class','stats_by_var','normalize_count_by_class','trans_hour_distribution','majority_count','resample',\n",
    "                   'train_majority','train_minority','minority_resampled','train_symmetric','train_symmetric_X','train_symmetric_y','num_cols','col_name','Winsorizer',\n",
    "                   'OneHotEncoder','MeanEncoder','skew','feature_high_skew','YeoJohnsonTransformer','MinMaxScaler','SMOTE','RandomUnderSampler','make_pipeline','ini_records']"
   ]
  },
  {
   "cell_type": "code",
   "execution_count": 107,
   "id": "3702f39b",
   "metadata": {},
   "outputs": [],
   "source": [
    "# deleting the redundant variables from the memory\n",
    "\n",
    "for rem in variable_remove:\n",
    "    try:\n",
    "        del vars()[rem]\n",
    "    except:\n",
    "        pass"
   ]
  },
  {
   "cell_type": "markdown",
   "id": "83589aa6",
   "metadata": {},
   "source": [
    ".Building Machine Learning Models\n",
    "9.1 Assumptions\n",
    "9.2 Selction of Algorithms\n",
    "9.3 Selection of Evaluation Matric\n",
    "9.4 Define functions for supporting model building and evaluation\n",
    "9.5 Model Building\n",
    "9.6 Buid Hybrid Model from best performing models to have balance with other metric\n",
    "9.7 Finalising the best Model"
   ]
  },
  {
   "cell_type": "markdown",
   "id": "f10f333a",
   "metadata": {},
   "source": [
    "9.1 Assumption\n",
    "\n",
    "Dataset does not looks like linearly separable,hence the linear model like logistic regression may not perform well in the give dataset.\n",
    "Tree Models and ensembles could be the go to model in the given context\n",
    "9.2 Go to Algorithms.\n",
    "\n",
    "Decision Tree\n",
    "Random Forest\n",
    "XG Boost\n",
    "Note : Algorithms can be trained on the training samples with normal hyperparamters and Search Algorithms can be used to find the better hyperpatamers by training them on the tuning samples created above\n",
    "\n",
    "9.2.A ) Search Algorithms\n",
    "\n",
    "Easily implementable algorthms are GridseacchCV,RandomSearchCV,HalvingRandomSearchCV, BayesianSearchCV fron hyperopt.\n",
    "\n",
    "Considering the number models and the size of the datset, we choose the following\n",
    "\n",
    "-- HalvingRandomSearchCV - Much faster than GridSearchCV & RandomizedSearchCV - Get to hyperparametr through successive halving\n",
    "\n",
    "-- BayesianSearchCV - Gaussion Process Search - picking the parameters from its distributions (suitable XG boost where we have hyperparameters of continues nature)"
   ]
  },
  {
   "cell_type": "markdown",
   "id": "b30fa5bf",
   "metadata": {},
   "source": [
    "9.3 Best Evaluation Metric\n",
    "\n",
    "Emphasizing true-positive - for predicting the frauds effectively\n",
    "Emphasizing true-negatives - for the seeamless user experice of the bank\n",
    "Hense, we can choose the roc_auc as the best metric in our business context,\n",
    "same time we may look at the precision and recall to finalize the best model\n",
    "9.4 Defining Function to Train Model & Evaluate\n",
    "\n",
    "Function to print confusion Matrix - which is more informtive and Readable\n",
    "Function to return the train and test performance of a model\n",
    "Function to print pretty confusion matrix"
   ]
  },
  {
   "cell_type": "code",
   "execution_count": 111,
   "id": "6d270566",
   "metadata": {},
   "outputs": [
    {
     "ename": "IndentationError",
     "evalue": "unindent does not match any outer indentation level (<tokenize>, line 14)",
     "output_type": "error",
     "traceback": [
      "\u001b[0;36m  File \u001b[0;32m<tokenize>:14\u001b[0;36m\u001b[0m\n\u001b[0;31m    fig, ax = plt.subplots(figsize=figsize)\u001b[0m\n\u001b[0m    ^\u001b[0m\n\u001b[0;31mIndentationError\u001b[0m\u001b[0;31m:\u001b[0m unindent does not match any outer indentation level\n"
     ]
    }
   ],
   "source": [
    "import itertools\n",
    "\n",
    "from sklearn.metrics import confusion_matrix\n",
    "\n",
    "def make_confusion_matrix(y_true, y_pred, classes=None, figsize=(10, 10), text_size=12): \n",
    "    \n",
    "  \n",
    "  # Create the confustion matrix\n",
    "    cm = confusion_matrix(y_true, y_pred)\n",
    "    cm_norm = cm.astype(\"float\") / cm.sum(axis=1)[:, np.newaxis] # normalize it\n",
    "    n_classes = cm.shape[0] # find the number of classes we're dealing with\n",
    "\n",
    "  # Plot the figure and make it pretty\n",
    "  fig, ax = plt.subplots(figsize=figsize)\n",
    "    cax = ax.matshow(cm, cmap=plt.cm.Greens) # colors will represent how 'correct' a class is, darker == better\n",
    "    fig.colorbar(cax)\n",
    "    \n",
    "\n",
    "  # Are there a list of classes?\n",
    "  if classes:\n",
    "        labels = classes\n",
    "        else:\n",
    "            labels = np.arange(cm.shape[0])\n",
    "  \n",
    "  # Label the axes\n",
    "    ax.set(title=\"Confusion Matrix\",\n",
    "         xlabel=\"Predicted label\",\n",
    "         ylabel=\"True label\",\n",
    "         xticks=np.arange(n_classes), # create enough axis slots for each class\n",
    "         yticks=np.arange(n_classes), \n",
    "         xticklabels=labels, # axes will labeled with class names (if they exist) or ints\n",
    "         yticklabels=labels)\n",
    "  \n",
    "  # Make x-axis labels appear on bottom\n",
    "    ax.xaxis.set_label_position(\"bottom\")\n",
    "    ax.xaxis.tick_bottom()\n",
    "\n",
    "  # Set the threshold for different colors\n",
    "  threshold = (cm.max() + cm.min()) / 2.\n",
    "\n",
    "  # Plot the text on each cell\n",
    "  for i, j in itertools.product(range(cm.shape[0]), range(cm.shape[1])):\n",
    "    plt.text(j, i, f\"{cm[i, j]} ({cm_norm[i, j]*100:.1f}%)\",\n",
    "             horizontalalignment=\"center\",\n",
    "             color=\"white\" if cm[i, j] > threshold else \"black\",\n",
    "             size=text_size)"
   ]
  },
  {
   "cell_type": "code",
   "execution_count": null,
   "id": "a993d8f8",
   "metadata": {},
   "outputs": [],
   "source": []
  }
 ],
 "metadata": {
  "kernelspec": {
   "display_name": "Python 3 (ipykernel)",
   "language": "python",
   "name": "python3"
  },
  "language_info": {
   "codemirror_mode": {
    "name": "ipython",
    "version": 3
   },
   "file_extension": ".py",
   "mimetype": "text/x-python",
   "name": "python",
   "nbconvert_exporter": "python",
   "pygments_lexer": "ipython3",
   "version": "3.9.12"
  }
 },
 "nbformat": 4,
 "nbformat_minor": 5
}
